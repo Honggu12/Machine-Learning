{
  "nbformat": 4,
  "nbformat_minor": 0,
  "metadata": {
    "colab": {
      "name": "02. 행렬과 신경망",
      "provenance": [],
      "collapsed_sections": [],
      "authorship_tag": "ABX9TyOjl6q/L+aVRXXFKcjE+mil",
      "include_colab_link": true
    },
    "kernelspec": {
      "name": "python3",
      "display_name": "Python 3"
    }
  },
  "cells": [
    {
      "cell_type": "markdown",
      "metadata": {
        "id": "view-in-github",
        "colab_type": "text"
      },
      "source": [
        "<a href=\"https://colab.research.google.com/github/Honggu12/Machine-Learning/blob/main/02_%ED%96%89%EB%A0%AC%EA%B3%BC_%EC%8B%A0%EA%B2%BD%EB%A7%9D.ipynb\" target=\"_parent\"><img src=\"https://colab.research.google.com/assets/colab-badge.svg\" alt=\"Open In Colab\"/></a>"
      ]
    },
    {
      "cell_type": "code",
      "metadata": {
        "id": "VC2hxknaZNWz"
      },
      "source": [
        "import numpy as np"
      ],
      "execution_count": null,
      "outputs": []
    },
    {
      "cell_type": "code",
      "metadata": {
        "id": "Z3FM8OmxZWSC"
      },
      "source": [
        "A = np.array([1, 2, 3, 4])\n",
        "B = np.arange(1, 7).reshape(3, 2)"
      ],
      "execution_count": null,
      "outputs": []
    },
    {
      "cell_type": "code",
      "metadata": {
        "id": "5k79k2ddZnCL",
        "outputId": "92c46942-ee14-40ce-cc84-f37b61549c90",
        "colab": {
          "base_uri": "https://localhost:8080/"
        }
      },
      "source": [
        "A.shape"
      ],
      "execution_count": null,
      "outputs": [
        {
          "output_type": "execute_result",
          "data": {
            "text/plain": [
              "(4,)"
            ]
          },
          "metadata": {
            "tags": []
          },
          "execution_count": 8
        }
      ]
    },
    {
      "cell_type": "code",
      "metadata": {
        "id": "4xMQK9guZoC-",
        "outputId": "d25d7cbb-63ae-44d2-9c33-1a75aded43d4",
        "colab": {
          "base_uri": "https://localhost:8080/"
        }
      },
      "source": [
        "B.shape"
      ],
      "execution_count": null,
      "outputs": [
        {
          "output_type": "execute_result",
          "data": {
            "text/plain": [
              "(3, 2)"
            ]
          },
          "metadata": {
            "tags": []
          },
          "execution_count": 10
        }
      ]
    },
    {
      "cell_type": "code",
      "metadata": {
        "id": "fxwKLBC_bm-G"
      },
      "source": [
        "A = np.arange(1, 7).reshape(2, 3)\n",
        "B = np.arange(1, 7).reshape(3, 2)"
      ],
      "execution_count": null,
      "outputs": []
    },
    {
      "cell_type": "code",
      "metadata": {
        "id": "_uaTGI8QbvN_",
        "outputId": "aff5dd29-363a-40a3-d0da-d6b1cb26a708",
        "colab": {
          "base_uri": "https://localhost:8080/"
        }
      },
      "source": [
        "A.shape"
      ],
      "execution_count": null,
      "outputs": [
        {
          "output_type": "execute_result",
          "data": {
            "text/plain": [
              "(2, 3)"
            ]
          },
          "metadata": {
            "tags": []
          },
          "execution_count": 14
        }
      ]
    },
    {
      "cell_type": "code",
      "metadata": {
        "id": "7ZUIW_KebzlK",
        "outputId": "9331e697-b682-4aa6-80a5-d5824d5d8d13",
        "colab": {
          "base_uri": "https://localhost:8080/"
        }
      },
      "source": [
        "B.shape"
      ],
      "execution_count": null,
      "outputs": [
        {
          "output_type": "execute_result",
          "data": {
            "text/plain": [
              "(3, 2)"
            ]
          },
          "metadata": {
            "tags": []
          },
          "execution_count": 16
        }
      ]
    },
    {
      "cell_type": "markdown",
      "metadata": {
        "id": "h5p8jBf-b2ii"
      },
      "source": [
        "A와 B의 내적을 구할 수 있나요?yes"
      ]
    },
    {
      "cell_type": "code",
      "metadata": {
        "id": "--dpEcGucCqF",
        "outputId": "ee46530b-e7db-47bf-db27-5d740b115a7f",
        "colab": {
          "base_uri": "https://localhost:8080/"
        }
      },
      "source": [
        "np.dot(A, B)"
      ],
      "execution_count": null,
      "outputs": [
        {
          "output_type": "execute_result",
          "data": {
            "text/plain": [
              "array([[22, 28],\n",
              "       [49, 64]])"
            ]
          },
          "metadata": {
            "tags": []
          },
          "execution_count": 18
        }
      ]
    },
    {
      "cell_type": "markdown",
      "metadata": {
        "id": "Prx1NiQlcF8I"
      },
      "source": [
        "B와 A의 내적을 구할수 있나요? yes"
      ]
    },
    {
      "cell_type": "code",
      "metadata": {
        "id": "XD4y8hXfcJG6",
        "outputId": "5215ccca-dbdc-4eeb-e2b6-8b526a8b65c0",
        "colab": {
          "base_uri": "https://localhost:8080/"
        }
      },
      "source": [
        "np.dot(B, A)"
      ],
      "execution_count": null,
      "outputs": [
        {
          "output_type": "execute_result",
          "data": {
            "text/plain": [
              "array([[ 9, 12, 15],\n",
              "       [19, 26, 33],\n",
              "       [29, 40, 51]])"
            ]
          },
          "metadata": {
            "tags": []
          },
          "execution_count": 20
        }
      ]
    },
    {
      "cell_type": "code",
      "metadata": {
        "id": "5wMGNHoucLnU"
      },
      "source": [
        "C = np.arange(1, 5).reshape(2, 2)"
      ],
      "execution_count": null,
      "outputs": []
    },
    {
      "cell_type": "markdown",
      "metadata": {
        "id": "qINHQoijcbxD"
      },
      "source": [
        "A와 C의 내적을 구할 수 있나요?No"
      ]
    },
    {
      "cell_type": "code",
      "metadata": {
        "id": "Ayrwk06YclLd",
        "outputId": "f7cb5aee-9b3f-409a-e03b-a03ba41ab3a8",
        "colab": {
          "base_uri": "https://localhost:8080/"
        }
      },
      "source": [
        "A.shape"
      ],
      "execution_count": null,
      "outputs": [
        {
          "output_type": "execute_result",
          "data": {
            "text/plain": [
              "(2, 3)"
            ]
          },
          "metadata": {
            "tags": []
          },
          "execution_count": 26
        }
      ]
    },
    {
      "cell_type": "code",
      "metadata": {
        "id": "1M5vxIojcmY_",
        "outputId": "64453639-89f2-49ec-ccf1-7ee6d0de9ed0",
        "colab": {
          "base_uri": "https://localhost:8080/"
        }
      },
      "source": [
        "C.shape"
      ],
      "execution_count": null,
      "outputs": [
        {
          "output_type": "execute_result",
          "data": {
            "text/plain": [
              "(2, 2)"
            ]
          },
          "metadata": {
            "tags": []
          },
          "execution_count": 27
        }
      ]
    },
    {
      "cell_type": "code",
      "metadata": {
        "id": "PyN36QcQcnJp",
        "outputId": "8096c690-322e-45d4-b716-5baf925b0fe0",
        "colab": {
          "base_uri": "https://localhost:8080/",
          "height": 205
        }
      },
      "source": [
        "np.dot(A, C)"
      ],
      "execution_count": null,
      "outputs": [
        {
          "output_type": "error",
          "ename": "ValueError",
          "evalue": "ignored",
          "traceback": [
            "\u001b[0;31m---------------------------------------------------------------------------\u001b[0m",
            "\u001b[0;31mValueError\u001b[0m                                Traceback (most recent call last)",
            "\u001b[0;32m<ipython-input-28-bb5afb89b162>\u001b[0m in \u001b[0;36m<module>\u001b[0;34m()\u001b[0m\n\u001b[0;32m----> 1\u001b[0;31m \u001b[0mnp\u001b[0m\u001b[0;34m.\u001b[0m\u001b[0mdot\u001b[0m\u001b[0;34m(\u001b[0m\u001b[0mA\u001b[0m\u001b[0;34m,\u001b[0m \u001b[0mC\u001b[0m\u001b[0;34m)\u001b[0m\u001b[0;34m\u001b[0m\u001b[0;34m\u001b[0m\u001b[0m\n\u001b[0m",
            "\u001b[0;32m<__array_function__ internals>\u001b[0m in \u001b[0;36mdot\u001b[0;34m(*args, **kwargs)\u001b[0m\n",
            "\u001b[0;31mValueError\u001b[0m: shapes (2,3) and (2,2) not aligned: 3 (dim 1) != 2 (dim 0)"
          ]
        }
      ]
    },
    {
      "cell_type": "markdown",
      "metadata": {
        "id": "9YNsJ3OicriR"
      },
      "source": [
        "C와 A의 내적 구할 수 있나요?Yes"
      ]
    },
    {
      "cell_type": "code",
      "metadata": {
        "id": "q2_v74ZUcxby",
        "outputId": "0b21fdee-f7c5-4163-fc6c-2f02bae10610",
        "colab": {
          "base_uri": "https://localhost:8080/"
        }
      },
      "source": [
        "np.dot(C, A)"
      ],
      "execution_count": null,
      "outputs": [
        {
          "output_type": "execute_result",
          "data": {
            "text/plain": [
              "array([[ 9, 12, 15],\n",
              "       [19, 26, 33]])"
            ]
          },
          "metadata": {
            "tags": []
          },
          "execution_count": 30
        }
      ]
    },
    {
      "cell_type": "code",
      "metadata": {
        "id": "ldfqQ4u_c0pE"
      },
      "source": [
        "D = np.arange(1, 3)"
      ],
      "execution_count": null,
      "outputs": []
    },
    {
      "cell_type": "code",
      "metadata": {
        "id": "dXWLt0eddBka",
        "outputId": "58787c5d-5425-4c6b-8527-6fe637883fdc",
        "colab": {
          "base_uri": "https://localhost:8080/"
        }
      },
      "source": [
        "D"
      ],
      "execution_count": null,
      "outputs": [
        {
          "output_type": "execute_result",
          "data": {
            "text/plain": [
              "array([1, 2])"
            ]
          },
          "metadata": {
            "tags": []
          },
          "execution_count": 32
        }
      ]
    },
    {
      "cell_type": "code",
      "metadata": {
        "id": "ItZcRVBwdCla",
        "outputId": "ea4a9348-58e2-4cde-dec1-d6d38bf042a7",
        "colab": {
          "base_uri": "https://localhost:8080/"
        }
      },
      "source": [
        "D.shape"
      ],
      "execution_count": null,
      "outputs": [
        {
          "output_type": "execute_result",
          "data": {
            "text/plain": [
              "(2,)"
            ]
          },
          "metadata": {
            "tags": []
          },
          "execution_count": 33
        }
      ]
    },
    {
      "cell_type": "markdown",
      "metadata": {
        "id": "1tSleMREdDhv"
      },
      "source": [
        "A와D의 내적 가능?"
      ]
    },
    {
      "cell_type": "code",
      "metadata": {
        "id": "MzshJiTKdHjY",
        "outputId": "93c21d7d-e1b7-4731-cb90-c6a46132ca66",
        "colab": {
          "base_uri": "https://localhost:8080/"
        }
      },
      "source": [
        "A.shape, D.shape"
      ],
      "execution_count": null,
      "outputs": [
        {
          "output_type": "execute_result",
          "data": {
            "text/plain": [
              "((2, 3), (2,))"
            ]
          },
          "metadata": {
            "tags": []
          },
          "execution_count": 34
        }
      ]
    },
    {
      "cell_type": "markdown",
      "metadata": {
        "id": "D__0l4kddJSS"
      },
      "source": [
        "D와 A의 내적 가능? yes"
      ]
    },
    {
      "cell_type": "code",
      "metadata": {
        "id": "TShrOnVadP4F",
        "outputId": "9cce9f8c-09e1-4620-d184-040ba8240ff3",
        "colab": {
          "base_uri": "https://localhost:8080/"
        }
      },
      "source": [
        "np.dot(D, A)"
      ],
      "execution_count": null,
      "outputs": [
        {
          "output_type": "execute_result",
          "data": {
            "text/plain": [
              "array([ 9, 12, 15])"
            ]
          },
          "metadata": {
            "tags": []
          },
          "execution_count": 35
        }
      ]
    },
    {
      "cell_type": "code",
      "metadata": {
        "id": "W3gbsd98dRie"
      },
      "source": [
        "X = np.array([1.0, 0.5])\n",
        "W1 = np.array([[0.1, 0.3, 0.5],\n",
        "               [0.2, 0.4, 0.6] ]) # 2개의 입력을 받는 3개의 뉴런 - 1층의 구조\n",
        "\n",
        "B1 = np.array( [0.1, 0.2, 0.3] )\n"
      ],
      "execution_count": null,
      "outputs": []
    },
    {
      "cell_type": "code",
      "metadata": {
        "id": "r8O42YDvlfUw",
        "outputId": "5790b2ff-7761-4043-8070-c3310d8c7ea8",
        "colab": {
          "base_uri": "https://localhost:8080/"
        }
      },
      "source": [
        "X.shape, W1.shape, B1.shape"
      ],
      "execution_count": null,
      "outputs": [
        {
          "output_type": "execute_result",
          "data": {
            "text/plain": [
              "((2,), (2, 3), (3,))"
            ]
          },
          "metadata": {
            "tags": []
          },
          "execution_count": 37
        }
      ]
    },
    {
      "cell_type": "code",
      "metadata": {
        "id": "YmPH5DH_lhMu",
        "outputId": "1ca3bd16-2f65-41bd-c6e5-99eb922827da",
        "colab": {
          "base_uri": "https://localhost:8080/"
        }
      },
      "source": [
        "Z1 = np.dot(X, W1) + B1\n",
        "Z1"
      ],
      "execution_count": null,
      "outputs": [
        {
          "output_type": "execute_result",
          "data": {
            "text/plain": [
              "array([0.3, 0.7, 1.1])"
            ]
          },
          "metadata": {
            "tags": []
          },
          "execution_count": 39
        }
      ]
    },
    {
      "cell_type": "code",
      "metadata": {
        "id": "4-xxSSx0lt-o"
      },
      "source": [
        "def sigmoid(x):\n",
        "  return 1 / (1 + np.exp(-x))"
      ],
      "execution_count": null,
      "outputs": []
    },
    {
      "cell_type": "code",
      "metadata": {
        "id": "ZXYq2qUAl6bv",
        "outputId": "c7b8b37b-112d-4358-8445-9b8a4a46dac8",
        "colab": {
          "base_uri": "https://localhost:8080/"
        }
      },
      "source": [
        "A1 = sigmoid(Z1)\n",
        "A1"
      ],
      "execution_count": null,
      "outputs": [
        {
          "output_type": "execute_result",
          "data": {
            "text/plain": [
              "array([0.57444252, 0.66818777, 0.75026011])"
            ]
          },
          "metadata": {
            "tags": []
          },
          "execution_count": 41
        }
      ]
    },
    {
      "cell_type": "code",
      "metadata": {
        "id": "l4Sep3DzmCYl",
        "outputId": "1477aa6d-a060-4bc2-84b9-2f3c45fb16b1",
        "colab": {
          "base_uri": "https://localhost:8080/"
        }
      },
      "source": [
        "W2 = np.array([[0.1, 0.4],\n",
        "               [0.2, 0.5],\n",
        "               [0.3, 0.6]]) # 3개의 입력을 받는 2개의 뉴런\n",
        "\n",
        "B2 = np.array([0.1, 0.2])\n",
        "\n",
        "Z2 = np.dot(A1, W2) + B2\n",
        "A2 = sigmoid(Z2)\n",
        "A2"
      ],
      "execution_count": null,
      "outputs": [
        {
          "output_type": "execute_result",
          "data": {
            "text/plain": [
              "array([0.62624937, 0.7710107 ])"
            ]
          },
          "metadata": {
            "tags": []
          },
          "execution_count": 43
        }
      ]
    },
    {
      "cell_type": "code",
      "metadata": {
        "id": "stGnMX2gouA3",
        "outputId": "ba93fd59-dd79-442d-9f3c-7477095cf699",
        "colab": {
          "base_uri": "https://localhost:8080/"
        }
      },
      "source": [
        "# 항등함수\n",
        "def identity_function(x):\n",
        "    return x\n",
        "\n",
        "W3 = np.array([[0.1, 0.3], [0.2, 0.4]])\n",
        "B3 = np.array([0.1, 0.2])\n",
        "\n",
        "Z3 = np.dot(A2, W3) + B3\n",
        "Y = identity_function(Z3)\n",
        "\n",
        "Y"
      ],
      "execution_count": null,
      "outputs": [
        {
          "output_type": "execute_result",
          "data": {
            "text/plain": [
              "array([0.31682708, 0.69627909])"
            ]
          },
          "metadata": {
            "tags": []
          },
          "execution_count": 46
        }
      ]
    },
    {
      "cell_type": "code",
      "metadata": {
        "id": "SyQJqzaupHCd"
      },
      "source": [
        ""
      ],
      "execution_count": null,
      "outputs": []
    }
  ]
}