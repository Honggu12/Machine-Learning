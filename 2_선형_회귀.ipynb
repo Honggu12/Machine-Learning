{
  "nbformat": 4,
  "nbformat_minor": 0,
  "metadata": {
    "colab": {
      "name": "2. 선형 회귀",
      "provenance": [],
      "collapsed_sections": [],
      "authorship_tag": "ABX9TyM5PQ+0EOuSDCzfZMWAXBIF",
      "include_colab_link": true
    },
    "kernelspec": {
      "name": "python3",
      "display_name": "Python 3"
    }
  },
  "cells": [
    {
      "cell_type": "markdown",
      "metadata": {
        "id": "view-in-github",
        "colab_type": "text"
      },
      "source": [
        "<a href=\"https://colab.research.google.com/github/Honggu12/Machine-Learning/blob/main/2_%EC%84%A0%ED%98%95_%ED%9A%8C%EA%B7%80.ipynb\" target=\"_parent\"><img src=\"https://colab.research.google.com/assets/colab-badge.svg\" alt=\"Open In Colab\"/></a>"
      ]
    },
    {
      "cell_type": "markdown",
      "metadata": {
        "id": "5dHcAdVpXkOo"
      },
      "source": [
        "- LinearRegression\n",
        "- Ridge (*l*2 - MSE)\n",
        "- Lasso (*l*1 - MAE)"
      ]
    },
    {
      "cell_type": "code",
      "metadata": {
        "id": "5H3O-TgZXtsV",
        "outputId": "6a83821e-627d-43f3-b669-c5ad2a30d543",
        "colab": {
          "base_uri": "https://localhost:8080/",
          "height": 443
        }
      },
      "source": [
        "# 사이킷런 공부용 패키지\n",
        "!pip install mglearn"
      ],
      "execution_count": null,
      "outputs": [
        {
          "output_type": "stream",
          "text": [
            "Collecting mglearn\n",
            "\u001b[?25l  Downloading https://files.pythonhosted.org/packages/65/38/8aced26fce0b2ae82c3c87cd3b6105f38ca6d9d51704ecc44aa54473e6b9/mglearn-0.1.9.tar.gz (540kB)\n",
            "\r\u001b[K     |▋                               | 10kB 14.7MB/s eta 0:00:01\r\u001b[K     |█▏                              | 20kB 6.7MB/s eta 0:00:01\r\u001b[K     |█▉                              | 30kB 8.2MB/s eta 0:00:01\r\u001b[K     |██▍                             | 40kB 5.9MB/s eta 0:00:01\r\u001b[K     |███                             | 51kB 5.3MB/s eta 0:00:01\r\u001b[K     |███▋                            | 61kB 5.3MB/s eta 0:00:01\r\u001b[K     |████▎                           | 71kB 5.4MB/s eta 0:00:01\r\u001b[K     |████▉                           | 81kB 5.5MB/s eta 0:00:01\r\u001b[K     |█████▌                          | 92kB 5.3MB/s eta 0:00:01\r\u001b[K     |██████                          | 102kB 5.6MB/s eta 0:00:01\r\u001b[K     |██████▊                         | 112kB 5.6MB/s eta 0:00:01\r\u001b[K     |███████▎                        | 122kB 5.6MB/s eta 0:00:01\r\u001b[K     |███████▉                        | 133kB 5.6MB/s eta 0:00:01\r\u001b[K     |████████▌                       | 143kB 5.6MB/s eta 0:00:01\r\u001b[K     |█████████                       | 153kB 5.6MB/s eta 0:00:01\r\u001b[K     |█████████▊                      | 163kB 5.6MB/s eta 0:00:01\r\u001b[K     |██████████▎                     | 174kB 5.6MB/s eta 0:00:01\r\u001b[K     |███████████                     | 184kB 5.6MB/s eta 0:00:01\r\u001b[K     |███████████▌                    | 194kB 5.6MB/s eta 0:00:01\r\u001b[K     |████████████▏                   | 204kB 5.6MB/s eta 0:00:01\r\u001b[K     |████████████▊                   | 215kB 5.6MB/s eta 0:00:01\r\u001b[K     |█████████████▍                  | 225kB 5.6MB/s eta 0:00:01\r\u001b[K     |██████████████                  | 235kB 5.6MB/s eta 0:00:01\r\u001b[K     |██████████████▋                 | 245kB 5.6MB/s eta 0:00:01\r\u001b[K     |███████████████▏                | 256kB 5.6MB/s eta 0:00:01\r\u001b[K     |███████████████▊                | 266kB 5.6MB/s eta 0:00:01\r\u001b[K     |████████████████▍               | 276kB 5.6MB/s eta 0:00:01\r\u001b[K     |█████████████████               | 286kB 5.6MB/s eta 0:00:01\r\u001b[K     |█████████████████▋              | 296kB 5.6MB/s eta 0:00:01\r\u001b[K     |██████████████████▏             | 307kB 5.6MB/s eta 0:00:01\r\u001b[K     |██████████████████▉             | 317kB 5.6MB/s eta 0:00:01\r\u001b[K     |███████████████████▍            | 327kB 5.6MB/s eta 0:00:01\r\u001b[K     |████████████████████            | 337kB 5.6MB/s eta 0:00:01\r\u001b[K     |████████████████████▋           | 348kB 5.6MB/s eta 0:00:01\r\u001b[K     |█████████████████████▎          | 358kB 5.6MB/s eta 0:00:01\r\u001b[K     |█████████████████████▉          | 368kB 5.6MB/s eta 0:00:01\r\u001b[K     |██████████████████████▌         | 378kB 5.6MB/s eta 0:00:01\r\u001b[K     |███████████████████████         | 389kB 5.6MB/s eta 0:00:01\r\u001b[K     |███████████████████████▋        | 399kB 5.6MB/s eta 0:00:01\r\u001b[K     |████████████████████████▎       | 409kB 5.6MB/s eta 0:00:01\r\u001b[K     |████████████████████████▉       | 419kB 5.6MB/s eta 0:00:01\r\u001b[K     |█████████████████████████▌      | 430kB 5.6MB/s eta 0:00:01\r\u001b[K     |██████████████████████████      | 440kB 5.6MB/s eta 0:00:01\r\u001b[K     |██████████████████████████▊     | 450kB 5.6MB/s eta 0:00:01\r\u001b[K     |███████████████████████████▎    | 460kB 5.6MB/s eta 0:00:01\r\u001b[K     |████████████████████████████    | 471kB 5.6MB/s eta 0:00:01\r\u001b[K     |████████████████████████████▌   | 481kB 5.6MB/s eta 0:00:01\r\u001b[K     |█████████████████████████████▏  | 491kB 5.6MB/s eta 0:00:01\r\u001b[K     |█████████████████████████████▊  | 501kB 5.6MB/s eta 0:00:01\r\u001b[K     |██████████████████████████████▍ | 512kB 5.6MB/s eta 0:00:01\r\u001b[K     |███████████████████████████████ | 522kB 5.6MB/s eta 0:00:01\r\u001b[K     |███████████████████████████████▌| 532kB 5.6MB/s eta 0:00:01\r\u001b[K     |████████████████████████████████| 542kB 5.6MB/s \n",
            "\u001b[?25hRequirement already satisfied: numpy in /usr/local/lib/python3.6/dist-packages (from mglearn) (1.18.5)\n",
            "Requirement already satisfied: matplotlib in /usr/local/lib/python3.6/dist-packages (from mglearn) (3.2.2)\n",
            "Requirement already satisfied: scikit-learn in /usr/local/lib/python3.6/dist-packages (from mglearn) (0.22.2.post1)\n",
            "Requirement already satisfied: pandas in /usr/local/lib/python3.6/dist-packages (from mglearn) (1.1.3)\n",
            "Requirement already satisfied: pillow in /usr/local/lib/python3.6/dist-packages (from mglearn) (7.0.0)\n",
            "Requirement already satisfied: cycler in /usr/local/lib/python3.6/dist-packages (from mglearn) (0.10.0)\n",
            "Requirement already satisfied: imageio in /usr/local/lib/python3.6/dist-packages (from mglearn) (2.4.1)\n",
            "Requirement already satisfied: joblib in /usr/local/lib/python3.6/dist-packages (from mglearn) (0.17.0)\n",
            "Requirement already satisfied: kiwisolver>=1.0.1 in /usr/local/lib/python3.6/dist-packages (from matplotlib->mglearn) (1.2.0)\n",
            "Requirement already satisfied: pyparsing!=2.0.4,!=2.1.2,!=2.1.6,>=2.0.1 in /usr/local/lib/python3.6/dist-packages (from matplotlib->mglearn) (2.4.7)\n",
            "Requirement already satisfied: python-dateutil>=2.1 in /usr/local/lib/python3.6/dist-packages (from matplotlib->mglearn) (2.8.1)\n",
            "Requirement already satisfied: scipy>=0.17.0 in /usr/local/lib/python3.6/dist-packages (from scikit-learn->mglearn) (1.4.1)\n",
            "Requirement already satisfied: pytz>=2017.2 in /usr/local/lib/python3.6/dist-packages (from pandas->mglearn) (2018.9)\n",
            "Requirement already satisfied: six in /usr/local/lib/python3.6/dist-packages (from cycler->mglearn) (1.15.0)\n",
            "Building wheels for collected packages: mglearn\n",
            "  Building wheel for mglearn (setup.py) ... \u001b[?25l\u001b[?25hdone\n",
            "  Created wheel for mglearn: filename=mglearn-0.1.9-py2.py3-none-any.whl size=582639 sha256=a6fa5573daba825c8ec09adfa0c056fbc3b2310f5ce94f1c751351594cf4503b\n",
            "  Stored in directory: /root/.cache/pip/wheels/eb/a6/ea/a6a3716233fa62fc561259b5cb1e28f79e9ff3592c0adac5f0\n",
            "Successfully built mglearn\n",
            "Installing collected packages: mglearn\n",
            "Successfully installed mglearn-0.1.9\n"
          ],
          "name": "stdout"
        }
      ]
    },
    {
      "cell_type": "code",
      "metadata": {
        "id": "mlnr0o02YQ6J"
      },
      "source": [
        "import mglearn\n",
        "from sklearn.model_selection import train_test_split\n",
        "from sklearn.linear_model import LinearRegression\n",
        "\n",
        "X, y = mglearn.datasets.make_wave(n_samples=60) # 60개의 회귀 샘플 뽑기\n",
        "\n",
        "X_train, X_test, y_train, y_test = train_test_split(X, y, random_state=42)"
      ],
      "execution_count": null,
      "outputs": []
    },
    {
      "cell_type": "code",
      "metadata": {
        "id": "QiVmKIPPY8iO"
      },
      "source": [
        "lr = LinearRegression().fit(X_train, y_train)"
      ],
      "execution_count": null,
      "outputs": []
    },
    {
      "cell_type": "markdown",
      "metadata": {
        "id": "rh_eRXucbjDj"
      },
      "source": [
        "선형 회귀 모델에서는 가중치, 편향, 값을 확인할 수 있다.\n",
        "\n",
        "- 가중치(weight) - cofficient. coef_로 확인 가능\n",
        "- 편향(offset, intercept) - intercept_로 확인 가능"
      ]
    },
    {
      "cell_type": "code",
      "metadata": {
        "id": "u2TYnnrEbyfT",
        "outputId": "c2644f18-ec97-4a4d-9210-567b06afbaf1",
        "colab": {
          "base_uri": "https://localhost:8080/",
          "height": 34
        }
      },
      "source": [
        "# 가중치 확인\n",
        "lr.coef_"
      ],
      "execution_count": null,
      "outputs": [
        {
          "output_type": "execute_result",
          "data": {
            "text/plain": [
              "array([0.39390555])"
            ]
          },
          "metadata": {
            "tags": []
          },
          "execution_count": 43
        }
      ]
    },
    {
      "cell_type": "code",
      "metadata": {
        "id": "sZ1G6VY8cJhk",
        "outputId": "ba0134f0-8136-4fcb-fef2-5f58b2c06a76",
        "colab": {
          "base_uri": "https://localhost:8080/",
          "height": 34
        }
      },
      "source": [
        "# 편향\n",
        "lr.intercept_\n"
      ],
      "execution_count": null,
      "outputs": [
        {
          "output_type": "execute_result",
          "data": {
            "text/plain": [
              "-0.031804343026759746"
            ]
          },
          "metadata": {
            "tags": []
          },
          "execution_count": 44
        }
      ]
    },
    {
      "cell_type": "markdown",
      "metadata": {
        "id": "_diTxccAcb0a"
      },
      "source": [
        "점수(결정계수) 확인하기"
      ]
    },
    {
      "cell_type": "code",
      "metadata": {
        "id": "6zu0rJehcfj_",
        "outputId": "4f987972-5f7e-4c49-cf73-4ce68100017f",
        "colab": {
          "base_uri": "https://localhost:8080/",
          "height": 52
        }
      },
      "source": [
        "print(\"훈련 세트 점수 :{:.2f}\".format(lr.score(X_train, y_train)))\n",
        "print(\"테스트 세트 점수 :{:.2f}\".format(lr.score(X_test, y_test)))"
      ],
      "execution_count": null,
      "outputs": [
        {
          "output_type": "stream",
          "text": [
            "훈련 세트 점수 :0.67\n",
            "테스트 세트 점수 :0.66\n"
          ],
          "name": "stdout"
        }
      ]
    },
    {
      "cell_type": "markdown",
      "metadata": {
        "id": "1qlHTcGVc7j-"
      },
      "source": [
        "과소적합인 상태\n",
        "\n",
        "- 선형 회귀는 수학적 계산을 통해 가중치와 편향만을 이용하는 모델이다.\n",
        "- 사용한 데이터 세트가 복잡도가 매우 낮다.(특성이 한개 밖에 없음!)"
      ]
    },
    {
      "cell_type": "code",
      "metadata": {
        "id": "7cchHn5ndH9Q"
      },
      "source": [
        "# 보스턴 주택가격 데이터셋\n",
        "X, y = mglearn.datasets.load_extended_boston()\n",
        "\n",
        "X_train, X_test, y_train, y_test = train_test_split(X, y, random_state=0)\n",
        "lr = LinearRegression().fit(X_train, y_train)"
      ],
      "execution_count": null,
      "outputs": []
    },
    {
      "cell_type": "code",
      "metadata": {
        "id": "h96VgFzmeNWY",
        "outputId": "a4f2114f-0bd8-4187-c1cb-cbb1469ddbe8",
        "colab": {
          "base_uri": "https://localhost:8080/",
          "height": 52
        }
      },
      "source": [
        "print(\"훈련 세트 점수 :{:.2f}\".format(lr.score(X_train, y_train)))\n",
        "print(\"테스트 세트 점수 :{:.2f}\".format(lr.score(X_test, y_test)))"
      ],
      "execution_count": null,
      "outputs": [
        {
          "output_type": "stream",
          "text": [
            "훈련 세트 점수 :0.95\n",
            "테스트 세트 점수 :0.61\n"
          ],
          "name": "stdout"
        }
      ]
    },
    {
      "cell_type": "markdown",
      "metadata": {
        "id": "emkHrqTcfqD8"
      },
      "source": [
        "Ridge, Lasso 사용하기\n",
        "\n",
        "- alpha 매개변수를 이용해서 가중치를 조절할 수 있다.\n",
        "- alpha는 패널티 이다.\n",
        "- alpha가 높아지면 가중치가 줄어든다.\n",
        "- alpha가 낮아지면 가중치가 늘어난다.\n",
        "\n",
        "특성에 제한이 걸리는 모델이다."
      ]
    },
    {
      "cell_type": "code",
      "metadata": {
        "id": "Fa_i_pfXgGNg",
        "outputId": "79bb1adc-6c32-4355-ae6e-b8c631338768",
        "colab": {
          "base_uri": "https://localhost:8080/",
          "height": 52
        }
      },
      "source": [
        "from sklearn.linear_model import Ridge, Lasso\n",
        "\n",
        "ridge = Ridge().fit(X_train, y_train)\n",
        "ridge"
      ],
      "execution_count": null,
      "outputs": [
        {
          "output_type": "execute_result",
          "data": {
            "text/plain": [
              "Ridge(alpha=1.0, copy_X=True, fit_intercept=True, max_iter=None,\n",
              "      normalize=False, random_state=None, solver='auto', tol=0.001)"
            ]
          },
          "metadata": {
            "tags": []
          },
          "execution_count": 52
        }
      ]
    },
    {
      "cell_type": "code",
      "metadata": {
        "id": "WNNaqt0HgcYB",
        "outputId": "5d647ce5-1992-42e5-e624-8fa941243111",
        "colab": {
          "base_uri": "https://localhost:8080/",
          "height": 52
        }
      },
      "source": [
        "print(\"ridge alpha 1.0일 때 훈련 세트 점수 : {:.2f}\".format(ridge.score(X_train, y_train)))\n",
        "print(\"ridge alpha 1.0일 때 테스트 세트 점수 : {:.2f}\".format(ridge.score(X_test, y_test)))"
      ],
      "execution_count": null,
      "outputs": [
        {
          "output_type": "stream",
          "text": [
            "ridge alpha 1.0일 때 훈련 세트 점수 : 0.89\n",
            "ridge alpha 1.0일 때 테스트 세트 점수 : 0.75\n"
          ],
          "name": "stdout"
        }
      ]
    },
    {
      "cell_type": "code",
      "metadata": {
        "id": "X6cY9qeGhNO9",
        "outputId": "baf61969-4e79-4e1d-de78-676015441a3d",
        "colab": {
          "base_uri": "https://localhost:8080/",
          "height": 52
        }
      },
      "source": [
        "# alpha가 높아졌기 때문에 가중치가 낮아진다. -> 모델이 단순해 진다. (복잡도가 내려감)\n",
        "# 과소적합이 될 가능성이 크다.\n",
        "\n",
        "ridge10 = Ridge(alpha=10).fit(X_train, y_train)\n",
        "print(\"훈련 세트 점수 : {:.2f}\".format(ridge10.score(X_train, y_train)))\n",
        "print(\"테스트 세트 점수 : {:.2f}\".format(ridge10.score(X_test, y_test)))"
      ],
      "execution_count": null,
      "outputs": [
        {
          "output_type": "stream",
          "text": [
            "훈련 세트 점수 : 0.79\n",
            "테스트 세트 점수 : 0.64\n"
          ],
          "name": "stdout"
        }
      ]
    },
    {
      "cell_type": "code",
      "metadata": {
        "id": "WX3I6-MrhrR4",
        "outputId": "19f69db0-8a4b-4c61-8c85-557c477559ba",
        "colab": {
          "base_uri": "https://localhost:8080/",
          "height": 52
        }
      },
      "source": [
        "# alpha가 낮아졌기 때문에 가중치가 높아진다. -> 모델이 복잡해 진다. (복잡도가 올라감)\n",
        "# 점점 과대적합이 될 가능성이 크다.\n",
        "\n",
        "ridge01 = Ridge(alpha=0.1).fit(X_train, y_train)\n",
        "\n",
        "print(\"ridge alpha 0.1일 때 훈련 세트 점수 : {:.2f}\".format(ridge01.score(X_train, y_train)))\n",
        "print(\"ridge alpha 0.1일 때 테스트 세트 점수 : {:.2f}\".format(ridge01.score(X_test, y_test)))\n",
        "\n"
      ],
      "execution_count": null,
      "outputs": [
        {
          "output_type": "stream",
          "text": [
            "ridge alpha 0.1일 때 훈련 세트 점수 : 0.93\n",
            "ridge alpha 0.1일 때 테스트 세트 점수 : 0.77\n"
          ],
          "name": "stdout"
        }
      ]
    },
    {
      "cell_type": "markdown",
      "metadata": {
        "id": "4oJ1yhrPiTUU"
      },
      "source": [
        "alpha값에 따른 가중치 시각화"
      ]
    },
    {
      "cell_type": "code",
      "metadata": {
        "id": "AuAY22opiP6g",
        "outputId": "e69c2aa0-4553-4ba6-eb48-9faf64d07488",
        "colab": {
          "base_uri": "https://localhost:8080/",
          "height": 623
        }
      },
      "source": [
        "import matplotlib.pyplot as plt\n",
        "\n",
        "plt.figure(figsize=(15,10))\n",
        "\n",
        "plt.plot(ridge10.coef_, '^', label=\"Ridge alpha 10\")\n",
        "plt.plot(ridge.coef_, 's', label=\"Ridge alpha 1.0\")\n",
        "plt.plot(ridge01.coef_, 'v', label=\"Ridge alpha 0.1\")\n",
        "\n",
        "plt.plot(lr.coef_, 'o', label=\"LinearRegression\")\n",
        "plt.xlabel(\"Coef List\")\n",
        "plt.ylabel(\"Coef Size\")\n",
        "plt.hlines(0, 0, len(lr.coef_))\n",
        "plt.ylim(-25, 25)\n",
        "plt.legend()"
      ],
      "execution_count": null,
      "outputs": [
        {
          "output_type": "execute_result",
          "data": {
            "text/plain": [
              "<matplotlib.legend.Legend at 0x7f2357d762e8>"
            ]
          },
          "metadata": {
            "tags": []
          },
          "execution_count": 64
        },
        {
          "output_type": "display_data",
          "data": {
            "image/png": "[encoded data removed]",
            "text/plain": [
              "<Figure size 1080x720 with 1 Axes>"
            ]
          },
          "metadata": {
            "tags": [],
            "needs_background": "light"
          }
        }
      ]
    },
    {
      "cell_type": "code",
      "metadata": {
        "id": "UtJSy-3mjGu3",
        "outputId": "06b94e2b-ac5b-4882-a031-05edb762586c",
        "colab": {
          "base_uri": "https://localhost:8080/",
          "height": 52
        }
      },
      "source": [
        "ridge000001 = Ridge(alpha=0.000001).fit(X_train, y_train)\n",
        "print(\"{:.2f}\".format(ridge000001.score(X_train, y_train)))\n",
        "print(\"{:.2f}\".format(ridge000001.score(X_test, y_test)))"
      ],
      "execution_count": null,
      "outputs": [
        {
          "output_type": "stream",
          "text": [
            "0.95\n",
            "0.61\n"
          ],
          "name": "stdout"
        }
      ]
    },
    {
      "cell_type": "code",
      "metadata": {
        "id": "8eA6uClEjoMl",
        "outputId": "b649c8de-c734-4524-bd3c-e685e24a7c27",
        "colab": {
          "base_uri": "https://localhost:8080/",
          "height": 70
        }
      },
      "source": [
        "lasso = Lasso().fit(X_train, y_train)\n",
        "lasso\n",
        "                "
      ],
      "execution_count": null,
      "outputs": [
        {
          "output_type": "execute_result",
          "data": {
            "text/plain": [
              "Lasso(alpha=1.0, copy_X=True, fit_intercept=True, max_iter=1000,\n",
              "      normalize=False, positive=False, precompute=False, random_state=None,\n",
              "      selection='cyclic', tol=0.0001, warm_start=False)"
            ]
          },
          "metadata": {
            "tags": []
          },
          "execution_count": 70
        }
      ]
    },
    {
      "cell_type": "code",
      "metadata": {
        "id": "DJlDbgSLj6gk"
      },
      "source": [
        "import numpy as np\n",
        "\n",
        "def print_score(model, train_x, train_y, test_x, test_y):\n",
        "  print(\"훈련 세트 점수 : {:.2f}\".format(model.score(train_x, train_y)))\n",
        "  print(\"테스트 세트 점수 : {:.2f}\".format(model.score(test_x, test_y)))\n",
        "  print(\"사용한 특성의 수 : {}\".format(np.sum(model.coef_ != 0)))"
      ],
      "execution_count": null,
      "outputs": []
    },
    {
      "cell_type": "code",
      "metadata": {
        "id": "AxFo_2BqkTfm",
        "outputId": "636dae43-e5ae-4785-d9b9-a9b7dc387b49",
        "colab": {
          "base_uri": "https://localhost:8080/",
          "height": 70
        }
      },
      "source": [
        "print_score(lasso, X_train, y_train, X_test, y_test)"
      ],
      "execution_count": null,
      "outputs": [
        {
          "output_type": "stream",
          "text": [
            "훈련 세트 점수 : 0.29\n",
            "테스트 세트 점수 : 0.21\n",
            "사용한 특성의 수 : 4\n"
          ],
          "name": "stdout"
        }
      ]
    },
    {
      "cell_type": "code",
      "metadata": {
        "id": "I5bU_hiukwcR",
        "outputId": "3573c2f0-75c4-4719-c4dd-3b9390e1fa3f",
        "colab": {
          "base_uri": "https://localhost:8080/",
          "height": 70
        }
      },
      "source": [
        "lasso001 = Lasso(alpha=0.01, max_iter=100000).fit(X_train, y_train)\n",
        "print_score(lasso001, X_train, y_train, X_test, y_test)"
      ],
      "execution_count": null,
      "outputs": [
        {
          "output_type": "stream",
          "text": [
            "훈련 세트 점수 : 0.90\n",
            "테스트 세트 점수 : 0.77\n",
            "사용한 특성의 수 : 33\n"
          ],
          "name": "stdout"
        }
      ]
    },
    {
      "cell_type": "code",
      "metadata": {
        "id": "oGz9Hu88lTxz",
        "outputId": "7094885b-7950-4df9-c219-084ae6cf7c8d",
        "colab": {
          "base_uri": "https://localhost:8080/",
          "height": 70
        }
      },
      "source": [
        "lasso0001 = Lasso(alpha=0.0001, max_iter=100000).fit(X_train, y_train)\n",
        "print_score(lasso0001, X_train, y_train, X_test, y_test)"
      ],
      "execution_count": null,
      "outputs": [
        {
          "output_type": "stream",
          "text": [
            "훈련 세트 점수 : 0.95\n",
            "테스트 세트 점수 : 0.64\n",
            "사용한 특성의 수 : 96\n"
          ],
          "name": "stdout"
        }
      ]
    },
    {
      "cell_type": "code",
      "metadata": {
        "id": "uznX2yTmlmrz",
        "outputId": "1ae80d41-fcb9-4496-cd1c-aa2593a7958c",
        "colab": {
          "base_uri": "https://localhost:8080/",
          "height": 552
        }
      },
      "source": [
        "plt.figure(figsize=(15, 8))\n",
        "plt.plot(lasso.coef_, 's', label=\"Lasso alpha=1\")\n",
        "plt.plot(lasso001.coef_, '^', label=\"Lasso alpha = 0.01\")\n",
        "plt.plot(lasso0001.coef_, 'v', label=\"Lasso alpha = 0.0001\")\n",
        "\n",
        "plt.plot(ridge01.coef_, 'o', label=\"Ridge alpha = 0.1\")\n",
        "plt.legend(ncol=2, loc=(0, 1.05))\n",
        "plt.ylim(-25, 25)\n",
        "plt.xlabel(\"Coef List\")\n",
        "plt.ylabel(\"Coef Size\")\n",
        "plt.show()"
      ],
      "execution_count": null,
      "outputs": [
        {
          "output_type": "display_data",
          "data": {
            "image/png": "[encoded data removed]",
            "text/plain": [
              "<Figure size 1080x576 with 1 Axes>"
            ]
          },
          "metadata": {
            "tags": [],
            "needs_background": "light"
          }
        }
      ]
    }
  ]
}