{
  "nbformat": 4,
  "nbformat_minor": 0,
  "metadata": {
    "colab": {
      "name": "04. 손실 함수(Loss Function)",
      "provenance": [],
      "collapsed_sections": [],
      "authorship_tag": "ABX9TyNvmdFZyQZMVibQZwAu6DSB",
      "include_colab_link": true
    },
    "kernelspec": {
      "name": "python3",
      "display_name": "Python 3"
    }
  },
  "cells": [
    {
      "cell_type": "markdown",
      "metadata": {
        "id": "view-in-github",
        "colab_type": "text"
      },
      "source": [
        "<a href=\"https://colab.research.google.com/github/Honggu12/Machine-Learning/blob/main/04_%EC%86%90%EC%8B%A4_%ED%95%A8%EC%88%98(Loss_Function).ipynb\" target=\"_parent\"><img src=\"https://colab.research.google.com/assets/colab-badge.svg\" alt=\"Open In Colab\"/></a>"
      ]
    },
    {
      "cell_type": "markdown",
      "metadata": {
        "id": "2rTAF5MUNi6y"
      },
      "source": [
        "손실 함수란 신경망이 얼마나 맞추지 못했는가에 대한 지표이다.\n",
        " - 즉, 낮을 수록 좋은 값이다.\n",
        " - 손실 함수에 영향을 미치는 것은 가중치(W)와 편향(B)\n",
        " - 신경망의 학습이랑 손실 함수의 값이 낮은 가중치와 편향을 구하는 것이다."
      ]
    },
    {
      "cell_type": "markdown",
      "metadata": {
        "id": "CiHVbvsUON8R"
      },
      "source": [
        "MSE\n",
        "평균 제곱 오차"
      ]
    },
    {
      "cell_type": "code",
      "metadata": {
        "id": "Bew1-c7UOn1B"
      },
      "source": [
        "import numpy as np\n",
        "\n",
        "# 모델이 2로 예측 했을 확률이 0.6\n",
        "y = [0.1, 0.05, 0.6, 0.0, 0.05, 0.1, 0.0, 0.1, 0.0, 0.0]\n",
        "\n",
        "# 실제 정답은 2이다.\n",
        "t = [0, 0, 1, 0, 0, 0, 0, 0, 0, 0]"
      ],
      "execution_count": null,
      "outputs": []
    },
    {
      "cell_type": "code",
      "metadata": {
        "id": "la658uzgOreB"
      },
      "source": [
        "def mean_squared_error(y, t):\n",
        "  return 0.5 * np.sum(( y - t) ** 2 )"
      ],
      "execution_count": null,
      "outputs": []
    },
    {
      "cell_type": "code",
      "metadata": {
        "id": "cKdAa2cYPE4r",
        "outputId": "e34cf013-6973-4d3b-8987-a032bd9375e6",
        "colab": {
          "base_uri": "https://localhost:8080/"
        }
      },
      "source": [
        "print(\"MSE : {}\".format(mean_squared_error(np.array(y), np.array(t))))"
      ],
      "execution_count": null,
      "outputs": [
        {
          "output_type": "stream",
          "text": [
            "MSE : 0.09750000000000003\n"
          ],
          "name": "stdout"
        }
      ]
    },
    {
      "cell_type": "code",
      "metadata": {
        "id": "p4m5Ff11PbSX",
        "outputId": "8643a2ad-29f1-4ab7-89e3-98c4fcfdbcf6",
        "colab": {
          "base_uri": "https://localhost:8080/"
        }
      },
      "source": [
        "# 모델이 7로 예측 했을 확률이 0.6\n",
        "y_error = [0.1, 0.05, 0.1, 0.0, 0.05, 0.1, 0.0, 0.6, 0.0, 0.0]\n",
        "\n",
        "print(\"MSE : {}\".format(mean_squared_error(np.array(y_error), np.array(t))))"
      ],
      "execution_count": null,
      "outputs": [
        {
          "output_type": "stream",
          "text": [
            "MSE : 0.5975\n"
          ],
          "name": "stdout"
        }
      ]
    },
    {
      "cell_type": "markdown",
      "metadata": {
        "id": "wZ5-diXOQDPM"
      },
      "source": [
        "CEE(Cross Entropy Error)\n",
        " - 교차 엔트로피 에러"
      ]
    },
    {
      "cell_type": "code",
      "metadata": {
        "id": "kK7-D_Y1Qu7B"
      },
      "source": [
        "def cross_entropy_error(y, t):\n",
        "  delta = 1e-7 # 아주 작은 값\n",
        "  return -np.sum(t * np.log(y + delta)) # 델타를 더해주는 이유는?"
      ],
      "execution_count": null,
      "outputs": []
    },
    {
      "cell_type": "code",
      "metadata": {
        "id": "o0FLuyJAQ6uj",
        "outputId": "3fbf9093-945a-44aa-caf4-5656b19631f1",
        "colab": {
          "base_uri": "https://localhost:8080/"
        }
      },
      "source": [
        "y = np.array([0.1, 0.05, 0.6, 0.0, 0.05, 0.1, 0.0, 0.1, 0.0, 0.0]) # 정답을 2로 예측 했을 확률이 0.6\n",
        "y_error = np.array([0.1, 0.05, 0.1, 0.0, 0.05, 0.1, 0.0, 0.6, 0.0, 0.0]) # 정답을 7로 예측했을 확률이 0.7\n",
        "\n",
        "# 실제 정답은 2이다.\n",
        "t = np.array([0, 0, 1, 0, 0, 0, 0, 0, 0, 0])\n",
        "\n",
        "print(\"y의 CEE : {:.3f}\".format(cross_entropy_error(y, t)))\n",
        "print(\"y_error의 CEE : {:.3f}\".format(cross_entropy_error(y_error, t)))"
      ],
      "execution_count": null,
      "outputs": [
        {
          "output_type": "stream",
          "text": [
            "y의 CEE : 0.511\n",
            "y_error의 CEE : 2.303\n"
          ],
          "name": "stdout"
        }
      ]
    },
    {
      "cell_type": "code",
      "metadata": {
        "id": "ms1ffOiyR3lx",
        "outputId": "05c6fae3-fe54-4bbb-b6f6-d51d524987d3",
        "colab": {
          "base_uri": "https://localhost:8080/"
        }
      },
      "source": [
        "from tensorflow.keras import datasets\n",
        "mnist = datasets.mnist\n",
        "\n",
        "(X_train, y_train), (X_test, y_test) = mnist.load_data()"
      ],
      "execution_count": null,
      "outputs": [
        {
          "output_type": "stream",
          "text": [
            "Downloading data from https://storage.googleapis.com/tensorflow/tf-keras-datasets/mnist.npz\n",
            "11493376/11490434 [==============================] - 0s 0us/step\n"
          ],
          "name": "stdout"
        }
      ]
    },
    {
      "cell_type": "code",
      "metadata": {
        "id": "8c2uicUdV4Dt",
        "outputId": "c0a137c4-5ef4-43a6-dc14-47f379b72e94",
        "colab": {
          "base_uri": "https://localhost:8080/"
        }
      },
      "source": [
        "X_train[0].shape"
      ],
      "execution_count": null,
      "outputs": [
        {
          "output_type": "execute_result",
          "data": {
            "text/plain": [
              "(28, 28)"
            ]
          },
          "metadata": {
            "tags": []
          },
          "execution_count": 19
        }
      ]
    },
    {
      "cell_type": "code",
      "metadata": {
        "id": "MFA3MLWsV8CV",
        "outputId": "81afe485-4f30-4bf8-f4ff-aba9c7b68f66",
        "colab": {
          "base_uri": "https://localhost:8080/"
        }
      },
      "source": [
        "y_train.shape"
      ],
      "execution_count": null,
      "outputs": [
        {
          "output_type": "execute_result",
          "data": {
            "text/plain": [
              "(60000,)"
            ]
          },
          "metadata": {
            "tags": []
          },
          "execution_count": 21
        }
      ]
    },
    {
      "cell_type": "markdown",
      "metadata": {
        "id": "Q7Jf-C_oV_Z0"
      },
      "source": [
        "y_train을 OneHotEncoding하는 방법"
      ]
    },
    {
      "cell_type": "code",
      "metadata": {
        "id": "kSrydjRWWGWp",
        "outputId": "f3379b0c-7a1e-4786-9f2e-9dbd24a403af",
        "colab": {
          "base_uri": "https://localhost:8080/"
        }
      },
      "source": [
        "X_train"
      ],
      "execution_count": null,
      "outputs": [
        {
          "output_type": "execute_result",
          "data": {
            "text/plain": [
              "array([[[0, 0, 0, ..., 0, 0, 0],\n",
              "        [0, 0, 0, ..., 0, 0, 0],\n",
              "        [0, 0, 0, ..., 0, 0, 0],\n",
              "        ...,\n",
              "        [0, 0, 0, ..., 0, 0, 0],\n",
              "        [0, 0, 0, ..., 0, 0, 0],\n",
              "        [0, 0, 0, ..., 0, 0, 0]],\n",
              "\n",
              "       [[0, 0, 0, ..., 0, 0, 0],\n",
              "        [0, 0, 0, ..., 0, 0, 0],\n",
              "        [0, 0, 0, ..., 0, 0, 0],\n",
              "        ...,\n",
              "        [0, 0, 0, ..., 0, 0, 0],\n",
              "        [0, 0, 0, ..., 0, 0, 0],\n",
              "        [0, 0, 0, ..., 0, 0, 0]],\n",
              "\n",
              "       [[0, 0, 0, ..., 0, 0, 0],\n",
              "        [0, 0, 0, ..., 0, 0, 0],\n",
              "        [0, 0, 0, ..., 0, 0, 0],\n",
              "        ...,\n",
              "        [0, 0, 0, ..., 0, 0, 0],\n",
              "        [0, 0, 0, ..., 0, 0, 0],\n",
              "        [0, 0, 0, ..., 0, 0, 0]],\n",
              "\n",
              "       ...,\n",
              "\n",
              "       [[0, 0, 0, ..., 0, 0, 0],\n",
              "        [0, 0, 0, ..., 0, 0, 0],\n",
              "        [0, 0, 0, ..., 0, 0, 0],\n",
              "        ...,\n",
              "        [0, 0, 0, ..., 0, 0, 0],\n",
              "        [0, 0, 0, ..., 0, 0, 0],\n",
              "        [0, 0, 0, ..., 0, 0, 0]],\n",
              "\n",
              "       [[0, 0, 0, ..., 0, 0, 0],\n",
              "        [0, 0, 0, ..., 0, 0, 0],\n",
              "        [0, 0, 0, ..., 0, 0, 0],\n",
              "        ...,\n",
              "        [0, 0, 0, ..., 0, 0, 0],\n",
              "        [0, 0, 0, ..., 0, 0, 0],\n",
              "        [0, 0, 0, ..., 0, 0, 0]],\n",
              "\n",
              "       [[0, 0, 0, ..., 0, 0, 0],\n",
              "        [0, 0, 0, ..., 0, 0, 0],\n",
              "        [0, 0, 0, ..., 0, 0, 0],\n",
              "        ...,\n",
              "        [0, 0, 0, ..., 0, 0, 0],\n",
              "        [0, 0, 0, ..., 0, 0, 0],\n",
              "        [0, 0, 0, ..., 0, 0, 0]]], dtype=uint8)"
            ]
          },
          "metadata": {
            "tags": []
          },
          "execution_count": 26
        }
      ]
    },
    {
      "cell_type": "code",
      "metadata": {
        "id": "pfe9agwFWfwO",
        "outputId": "af514e1d-2c0b-430e-9fc2-028ab558afe6",
        "colab": {
          "base_uri": "https://localhost:8080/"
        }
      },
      "source": [
        "y_train"
      ],
      "execution_count": null,
      "outputs": [
        {
          "output_type": "execute_result",
          "data": {
            "text/plain": [
              "array([5, 0, 4, ..., 5, 6, 8], dtype=uint8)"
            ]
          },
          "metadata": {
            "tags": []
          },
          "execution_count": 39
        }
      ]
    },
    {
      "cell_type": "code",
      "metadata": {
        "id": "lNiBxYCta2hq",
        "outputId": "dbc32766-c04d-4016-ed8f-8260ce96e0ee",
        "colab": {
          "base_uri": "https://localhost:8080/"
        }
      },
      "source": [
        "y_train[0].shape"
      ],
      "execution_count": null,
      "outputs": [
        {
          "output_type": "execute_result",
          "data": {
            "text/plain": [
              "()"
            ]
          },
          "metadata": {
            "tags": []
          },
          "execution_count": 40
        }
      ]
    },
    {
      "cell_type": "code",
      "metadata": {
        "id": "hBQl1B40WyWg",
        "outputId": "2004181d-c09a-4b08-ea22-da23783f9855",
        "colab": {
          "base_uri": "https://localhost:8080/"
        }
      },
      "source": [
        "y_train_step_1 = y_train.reshape(-1, 1)\n",
        "y_train_step_1.shape"
      ],
      "execution_count": null,
      "outputs": [
        {
          "output_type": "execute_result",
          "data": {
            "text/plain": [
              "(60000, 1)"
            ]
          },
          "metadata": {
            "tags": []
          },
          "execution_count": 32
        }
      ]
    },
    {
      "cell_type": "code",
      "metadata": {
        "id": "VYEl3_XtW2Q2",
        "outputId": "de1bedd8-38c6-4f67-c288-efd265f01da1",
        "colab": {
          "base_uri": "https://localhost:8080/"
        }
      },
      "source": [
        "y_train_step_1[:3]"
      ],
      "execution_count": null,
      "outputs": [
        {
          "output_type": "execute_result",
          "data": {
            "text/plain": [
              "array([[5],\n",
              "       [0],\n",
              "       [4]], dtype=uint8)"
            ]
          },
          "metadata": {
            "tags": []
          },
          "execution_count": 34
        }
      ]
    },
    {
      "cell_type": "code",
      "metadata": {
        "id": "IDAGOFTragCB",
        "outputId": "461b7dc5-611a-4f65-ae0a-d55af9dac2ac",
        "colab": {
          "base_uri": "https://localhost:8080/"
        }
      },
      "source": [
        "from sklearn.preprocessing import OneHotEncoder\n",
        "y_train_dummy = OneHotEncoder().fit_transform(y_train_step_1)\n",
        "y_train_dummy = y_train_dummy.toarray()\n",
        "\n",
        "y_train_dummy.shape"
      ],
      "execution_count": null,
      "outputs": [
        {
          "output_type": "execute_result",
          "data": {
            "text/plain": [
              "(60000, 10)"
            ]
          },
          "metadata": {
            "tags": []
          },
          "execution_count": 42
        }
      ]
    },
    {
      "cell_type": "code",
      "metadata": {
        "id": "UizpZv_obTzW",
        "outputId": "9c65ac97-ef05-4577-8907-d1fc9f81105d",
        "colab": {
          "base_uri": "https://localhost:8080/"
        }
      },
      "source": [
        "y_train_dummy[:3]"
      ],
      "execution_count": null,
      "outputs": [
        {
          "output_type": "execute_result",
          "data": {
            "text/plain": [
              "array([[0., 0., 0., 0., 0., 1., 0., 0., 0., 0.],\n",
              "       [1., 0., 0., 0., 0., 0., 0., 0., 0., 0.],\n",
              "       [0., 0., 0., 0., 1., 0., 0., 0., 0., 0.]])"
            ]
          },
          "metadata": {
            "tags": []
          },
          "execution_count": 44
        }
      ]
    },
    {
      "cell_type": "code",
      "metadata": {
        "id": "HQEadAHYceon",
        "outputId": "cbdb0413-b3fd-414d-b6f0-7bd379bb0207",
        "colab": {
          "base_uri": "https://localhost:8080/"
        }
      },
      "source": [
        "X_train = X_train.reshape(6000, -1)\n",
        "X_train.shape"
      ],
      "execution_count": null,
      "outputs": [
        {
          "output_type": "execute_result",
          "data": {
            "text/plain": [
              "(6000, 7840)"
            ]
          },
          "metadata": {
            "tags": []
          },
          "execution_count": 46
        }
      ]
    },
    {
      "cell_type": "code",
      "metadata": {
        "id": "UnO-8_ORcll5",
        "outputId": "0b649246-b86a-4ec4-fac5-b60de16ca422",
        "colab": {
          "base_uri": "https://localhost:8080/"
        }
      },
      "source": [
        "X_train.shape, y_train_dummy.shape"
      ],
      "execution_count": null,
      "outputs": [
        {
          "output_type": "execute_result",
          "data": {
            "text/plain": [
              "((6000, 7840), (60000, 10))"
            ]
          },
          "metadata": {
            "tags": []
          },
          "execution_count": 48
        }
      ]
    },
    {
      "cell_type": "markdown",
      "metadata": {
        "id": "5zMGkTG6c6Kb"
      },
      "source": [
        "미니 배치? - 랜덤하게 뽑은 인덱스로 배치를 만든 것"
      ]
    },
    {
      "cell_type": "code",
      "metadata": {
        "id": "uBmhUN8qdAKq",
        "outputId": "c48f1e40-3f51-4515-afec-1c8df7ee17ed",
        "colab": {
          "base_uri": "https://localhost:8080/"
        }
      },
      "source": [
        "# 60000장의 데이터 중에 무작위로 10개만 뽑아서 미니 배치를 만들자~\n",
        "# choice(범위, 숫자, 개수)\n",
        "\n",
        "train_size = X_train.shape[0]\n",
        "batch_size = 10\n",
        "batch_mask = np.random.choice(train_size, batch_size) # 6000개 중에 10개를 무작위로 뽑는다.\n",
        "\n",
        "print(batch_mask)"
      ],
      "execution_count": null,
      "outputs": [
        {
          "output_type": "stream",
          "text": [
            "[2687 3291  380 3789 1139  386 2038 3631 3300   19]\n"
          ],
          "name": "stdout"
        }
      ]
    },
    {
      "cell_type": "code",
      "metadata": {
        "id": "6oCYCyUvdp_7"
      },
      "source": [
        "# 마스크에 의해서 선택된 데이터 뽑기\n",
        "X_batch = X_train[batch_mask]\n",
        "t_batch = y_train_dummy[batch_mask]"
      ],
      "execution_count": null,
      "outputs": []
    },
    {
      "cell_type": "code",
      "metadata": {
        "id": "dfJJxRPuiWHr",
        "outputId": "8df43e46-f999-4438-e060-926d8a560f5f",
        "colab": {
          "base_uri": "https://localhost:8080/"
        }
      },
      "source": [
        "X_batch"
      ],
      "execution_count": null,
      "outputs": [
        {
          "output_type": "execute_result",
          "data": {
            "text/plain": [
              "array([[0, 0, 0, ..., 0, 0, 0],\n",
              "       [0, 0, 0, ..., 0, 0, 0],\n",
              "       [0, 0, 0, ..., 0, 0, 0],\n",
              "       ...,\n",
              "       [0, 0, 0, ..., 0, 0, 0],\n",
              "       [0, 0, 0, ..., 0, 0, 0],\n",
              "       [0, 0, 0, ..., 0, 0, 0]], dtype=uint8)"
            ]
          },
          "metadata": {
            "tags": []
          },
          "execution_count": 63
        }
      ]
    },
    {
      "cell_type": "markdown",
      "metadata": {
        "id": "joKw99HZeMrg"
      },
      "source": [
        "배치용 크로스 엔트로피 구현하기 ver.1"
      ]
    },
    {
      "cell_type": "code",
      "metadata": {
        "id": "6Yj73PnbePh6"
      },
      "source": [
        "def cross_entropy_error_v1(y, t):\n",
        "  if y.ndim == 1 :\n",
        "    t = t.reshape(1, t.size)\n",
        "    y = y.reshape(1, y.size)\n",
        "\n",
        "  batch_size = y.shape[0]\n",
        "  return -np.sum(t * np.log(y)) / batch_size # 원핫인코딩된 레이블에만 사용 가능하다."
      ],
      "execution_count": null,
      "outputs": []
    },
    {
      "cell_type": "code",
      "metadata": {
        "id": "YIIPpAUsfdOU"
      },
      "source": [
        "def cross_entropy_error_v2(y, t):\n",
        "  if y.ndim == 1 :\n",
        "    t = t.reshape(1, t.size)\n",
        "    y = y.reshape(1, y.size)\n",
        "\n",
        "  batch_size = y.shape[0]\n",
        "  return -np.sum(np.log(y[np.arange(batch_size), t])) / batch_size"
      ],
      "execution_count": null,
      "outputs": []
    }
  ]
}