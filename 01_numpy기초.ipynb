{
  "nbformat": 4,
  "nbformat_minor": 0,
  "metadata": {
    "colab": {
      "name": "01.numpy기초",
      "provenance": [],
      "authorship_tag": "ABX9TyNey6fJKTp1JwEZLQNz6xGT",
      "include_colab_link": true
    },
    "kernelspec": {
      "name": "python3",
      "display_name": "Python 3"
    }
  },
  "cells": [
    {
      "cell_type": "markdown",
      "metadata": {
        "id": "view-in-github",
        "colab_type": "text"
      },
      "source": [
        "<a href=\"https://colab.research.google.com/github/Honggu12/Machine-Learning/blob/main/01_numpy%EA%B8%B0%EC%B4%88.ipynb\" target=\"_parent\"><img src=\"https://colab.research.google.com/assets/colab-badge.svg\" alt=\"Open In Colab\"/></a>"
      ]
    },
    {
      "cell_type": "code",
      "metadata": {
        "id": "G224V-iTr_Va"
      },
      "source": [
        "import numpy as np"
      ],
      "execution_count": null,
      "outputs": []
    },
    {
      "cell_type": "markdown",
      "metadata": {
        "id": "QRPZGlkYr-Fx"
      },
      "source": [
        "파이썬의 list와 numpy의 ndarray의 차이점\n",
        "\n",
        "* 파이썬의 리스트보다 속도가 훨씬 빠르다.\n",
        "* 파이썬의 리스트보다 배열을 훨씬 크게 다룰 수 있다.\n"
      ]
    },
    {
      "cell_type": "code",
      "metadata": {
        "id": "irxeMZg2s18r",
        "outputId": "8b6e4ab6-26e4-4a42-a8e2-c392f0999242",
        "colab": {
          "base_uri": "https://localhost:8080/"
        }
      },
      "source": [
        "arr1 = np.array([1, 2, 3])\n",
        "arr1"
      ],
      "execution_count": null,
      "outputs": [
        {
          "output_type": "execute_result",
          "data": {
            "text/plain": [
              "array([1, 2, 3])"
            ]
          },
          "metadata": {
            "tags": []
          },
          "execution_count": 5
        }
      ]
    },
    {
      "cell_type": "code",
      "metadata": {
        "id": "BmBgDRpstCJK",
        "outputId": "4ded5468-8096-4353-f597-dc9aa71f2f24",
        "colab": {
          "base_uri": "https://localhost:8080/"
        }
      },
      "source": [
        "type(arr1)"
      ],
      "execution_count": null,
      "outputs": [
        {
          "output_type": "execute_result",
          "data": {
            "text/plain": [
              "numpy.ndarray"
            ]
          },
          "metadata": {
            "tags": []
          },
          "execution_count": 7
        }
      ]
    },
    {
      "cell_type": "code",
      "metadata": {
        "id": "8dnPmaJktEBl",
        "outputId": "6dc14f30-efa1-4ad1-860b-688a5436432c",
        "colab": {
          "base_uri": "https://localhost:8080/"
        }
      },
      "source": [
        "# 2차원 배열 만들기 with Python의 list\n",
        "\n",
        "arr2 = np.array([[1, 2, 3],\n",
        "                 [4, 5, 6]])\n",
        "type(arr2)"
      ],
      "execution_count": null,
      "outputs": [
        {
          "output_type": "execute_result",
          "data": {
            "text/plain": [
              "numpy.ndarray"
            ]
          },
          "metadata": {
            "tags": []
          },
          "execution_count": 9
        }
      ]
    },
    {
      "cell_type": "markdown",
      "metadata": {
        "id": "AA9fxB_uti51"
      },
      "source": [
        "파이썬 리스트는 여러 형태를 담을 수 있지만\n",
        "넘파이는 숫자 데이터만 담을 수 있다."
      ]
    },
    {
      "cell_type": "code",
      "metadata": {
        "id": "RoVf-zFWtuOJ",
        "outputId": "44b10b0c-8c5a-44dd-daf9-759094bac1ac",
        "colab": {
          "base_uri": "https://localhost:8080/"
        }
      },
      "source": [
        "arr = np.arange(10) # 0 - 9 까지 들어있는 숫자 배열\n",
        "arr"
      ],
      "execution_count": null,
      "outputs": [
        {
          "output_type": "execute_result",
          "data": {
            "text/plain": [
              "array([0, 1, 2, 3, 4, 5, 6, 7, 8, 9])"
            ]
          },
          "metadata": {
            "tags": []
          },
          "execution_count": 12
        }
      ]
    },
    {
      "cell_type": "code",
      "metadata": {
        "id": "HVGaEBwRt4-3",
        "outputId": "d08da082-ac64-4733-b69d-a335f7797641",
        "colab": {
          "base_uri": "https://localhost:8080/"
        }
      },
      "source": [
        "arr = np.arange(1, 10, 2) # 1부터 9까지 2씩 띄워 가면서\n",
        "arr"
      ],
      "execution_count": null,
      "outputs": [
        {
          "output_type": "execute_result",
          "data": {
            "text/plain": [
              "array([1, 3, 5, 7, 9])"
            ]
          },
          "metadata": {
            "tags": []
          },
          "execution_count": 14
        }
      ]
    },
    {
      "cell_type": "markdown",
      "metadata": {
        "id": "YTUm5p9CuBqd"
      },
      "source": [
        "다차원 배열\n",
        "\n",
        "np.zeros\n",
        "지정한 차원에 모든 원소를 0으로 채운다.\n",
        "\n",
        "np.ones\n",
        "지정한 차원에 모든 원소를 1로 채운다.\n",
        "\n",
        "np.full\n",
        "지정한 차원의 배열에 원하는 수를 채워 넣는다.\n",
        "\n",
        "-------------------------------------------------------\n",
        "\n",
        "단위 행렬 만들기\n",
        "\n",
        "np.eye\n",
        "대각선이 1인 단위행렬임.\n",
        "\n",
        "np.linspace(a, b, c)\n",
        "a부터 b까지 c개의 구간 만들기\n",
        "\n",
        "-------------------------------------------\n",
        "랜덤을 사용하기 위한 numpy\n",
        "\n",
        "-보통 랜덤한 배열은 딥러닝에서 매개변수의 초기화를 하기 위해 사용한다.\n",
        "-딥러닝에서는 일반적으로 Xavier 초기값, He초기값, 정규분포 초깃값을 계산해 준다."
      ]
    },
    {
      "cell_type": "code",
      "metadata": {
        "id": "_NeWsY14xZos",
        "outputId": "ea7ae01a-bde7-4b6c-db54-9eb152ddfc38",
        "colab": {
          "base_uri": "https://localhost:8080/"
        }
      },
      "source": [
        "# 일반적인 랜덤값만 만들기( 균등분포x , 정규분포x)\n",
        "np.random.rand(2, 3) # 0-1사이의 랜덤값 만들기"
      ],
      "execution_count": null,
      "outputs": [
        {
          "output_type": "execute_result",
          "data": {
            "text/plain": [
              "array([[0.05539115, 0.80764863, 0.45195337],\n",
              "       [0.11850968, 0.32925119, 0.1281851 ]])"
            ]
          },
          "metadata": {
            "tags": []
          },
          "execution_count": 16
        }
      ]
    },
    {
      "cell_type": "code",
      "metadata": {
        "id": "iOttJ1mRxoD0",
        "outputId": "0681b7f4-5638-4459-f4e6-206736848a1c",
        "colab": {
          "base_uri": "https://localhost:8080/"
        }
      },
      "source": [
        "# 정규분포 랜덤값 만들기\n",
        "np.random.randn(10)"
      ],
      "execution_count": null,
      "outputs": [
        {
          "output_type": "execute_result",
          "data": {
            "text/plain": [
              "array([-0.41654668,  1.97313058,  1.57055529,  0.14836724, -1.30346284,\n",
              "       -0.84353957, -1.43131351, -0.37133635, -0.8585284 , -0.04716257])"
            ]
          },
          "metadata": {
            "tags": []
          },
          "execution_count": 20
        }
      ]
    },
    {
      "cell_type": "code",
      "metadata": {
        "id": "wCWMncHoxva5",
        "outputId": "14de48aa-fc86-49da-bb8e-d2d4ce0c81b7",
        "colab": {
          "base_uri": "https://localhost:8080/"
        }
      },
      "source": [
        "np.random.randn(3, 4, 2)"
      ],
      "execution_count": null,
      "outputs": [
        {
          "output_type": "execute_result",
          "data": {
            "text/plain": [
              "array([[[-1.31022564, -0.05543212],\n",
              "        [-1.31294524,  0.49562248],\n",
              "        [-1.47736296, -0.2073577 ],\n",
              "        [-0.14162749, -0.12465881]],\n",
              "\n",
              "       [[-0.48595961, -0.9709123 ],\n",
              "        [ 1.3873015 , -1.05693898],\n",
              "        [-1.34638052, -2.49098303],\n",
              "        [ 0.20393527, -0.09879504]],\n",
              "\n",
              "       [[-0.31754257,  1.2817342 ],\n",
              "        [ 0.24479823,  1.31952327],\n",
              "        [ 2.19078833,  0.00490066],\n",
              "        [-0.82437475, -1.41368235]]])"
            ]
          },
          "metadata": {
            "tags": []
          },
          "execution_count": 21
        }
      ]
    },
    {
      "cell_type": "code",
      "metadata": {
        "id": "zHIdC2SSx9ED",
        "outputId": "e505262f-eace-404f-9dfb-87ff1c67c5e5",
        "colab": {
          "base_uri": "https://localhost:8080/"
        }
      },
      "source": [
        "# 균등 분포 만들기\n",
        "np.random.uniform(1.0, 3.0, size=(4, 5)) # 사이즈를 통해서 배열의 형상(shape) 지정"
      ],
      "execution_count": null,
      "outputs": [
        {
          "output_type": "execute_result",
          "data": {
            "text/plain": [
              "array([[2.2338063 , 1.41104544, 2.86116397, 1.46145285, 1.32459212],\n",
              "       [1.9548758 , 2.95536461, 2.25224456, 1.43589066, 2.22150229],\n",
              "       [1.9048061 , 1.95511145, 2.86648375, 1.70129907, 2.13718602],\n",
              "       [1.02303184, 2.21710401, 1.99351776, 1.68024162, 1.94328049]])"
            ]
          },
          "metadata": {
            "tags": []
          },
          "execution_count": 25
        }
      ]
    },
    {
      "cell_type": "markdown",
      "metadata": {
        "id": "oY7Xnz44yZA7"
      },
      "source": [
        "정수 랜덤 만들기"
      ]
    },
    {
      "cell_type": "code",
      "metadata": {
        "id": "_QkjwXdfybyj",
        "outputId": "ca9b5491-7ca1-46b6-db01-06455acd1711",
        "colab": {
          "base_uri": "https://localhost:8080/"
        }
      },
      "source": [
        "np.random.randint(1, 100, size=(5))"
      ],
      "execution_count": null,
      "outputs": [
        {
          "output_type": "execute_result",
          "data": {
            "text/plain": [
              "array([76, 72, 62, 33, 73])"
            ]
          },
          "metadata": {
            "tags": []
          },
          "execution_count": 27
        }
      ]
    },
    {
      "cell_type": "code",
      "metadata": {
        "id": "_5ByEop_yf34",
        "outputId": "5a3984de-e074-478b-c5f8-850fda5b7c3a",
        "colab": {
          "base_uri": "https://localhost:8080/"
        }
      },
      "source": [
        "np.random.randint(1, 100, size=(5, 1))"
      ],
      "execution_count": null,
      "outputs": [
        {
          "output_type": "execute_result",
          "data": {
            "text/plain": [
              "array([[28],\n",
              "       [10],\n",
              "       [93],\n",
              "       [47],\n",
              "       [35]])"
            ]
          },
          "metadata": {
            "tags": []
          },
          "execution_count": 29
        }
      ]
    },
    {
      "cell_type": "code",
      "metadata": {
        "id": "ImnopPb8yr57",
        "outputId": "a29cfb58-de33-4fb9-a1a8-5208c13f397d",
        "colab": {
          "base_uri": "https://localhost:8080/"
        }
      },
      "source": [
        "np.random.randint(1, 100, size=(3, 4, 5))"
      ],
      "execution_count": null,
      "outputs": [
        {
          "output_type": "execute_result",
          "data": {
            "text/plain": [
              "array([[[71, 29, 34, 68, 97],\n",
              "        [12, 64, 13,  9, 95],\n",
              "        [93, 64, 96, 59, 18],\n",
              "        [61, 48, 20,  2, 73]],\n",
              "\n",
              "       [[88, 65, 31,  5, 48],\n",
              "        [47, 75, 18, 50,  1],\n",
              "        [85, 33, 68, 68, 62],\n",
              "        [35, 85, 32, 75, 49]],\n",
              "\n",
              "       [[16, 44, 98, 79, 14],\n",
              "        [71, 60,  2, 95, 12],\n",
              "        [52, 15,  2, 69, 66],\n",
              "        [41, 83, 96, 17, 48]]])"
            ]
          },
          "metadata": {
            "tags": []
          },
          "execution_count": 31
        }
      ]
    },
    {
      "cell_type": "code",
      "metadata": {
        "id": "8klsnlnHy3jy",
        "outputId": "db09eb2a-591e-4851-b01d-78f1eb6de8c1",
        "colab": {
          "base_uri": "https://localhost:8080/"
        }
      },
      "source": [
        "#1차원 배열에서 랜덤 샘플링 하기 (중복 안됨)\n",
        "#미니 배치를 만들 때 사용된다.\n",
        "np.random.choice(100, size=(3, 4))"
      ],
      "execution_count": null,
      "outputs": [
        {
          "output_type": "execute_result",
          "data": {
            "text/plain": [
              "array([[97, 47, 49, 54],\n",
              "       [55, 29, 10,  4],\n",
              "       [56, 53, 25, 96]])"
            ]
          },
          "metadata": {
            "tags": []
          },
          "execution_count": 33
        }
      ]
    },
    {
      "cell_type": "code",
      "metadata": {
        "id": "nZmgOd6PzDjy",
        "outputId": "76141b4e-072c-4220-a6bb-772c50e932b6",
        "colab": {
          "base_uri": "https://localhost:8080/"
        }
      },
      "source": [
        "arr = np.arange(1, 6)\n",
        "arr\n",
        "np.random.choice(arr, size=(2, 2), replace=False) # True이면 원소를 중복 추출, False이면 중복 추출 X"
      ],
      "execution_count": null,
      "outputs": [
        {
          "output_type": "execute_result",
          "data": {
            "text/plain": [
              "array([[5, 1],\n",
              "       [2, 3]])"
            ]
          },
          "metadata": {
            "tags": []
          },
          "execution_count": 38
        }
      ]
    },
    {
      "cell_type": "markdown",
      "metadata": {
        "id": "YlIsR1BszjgG"
      },
      "source": [
        "인덱스와 슬라이싱"
      ]
    },
    {
      "cell_type": "code",
      "metadata": {
        "id": "Pd1hOeHGzlGy",
        "outputId": "26f60e0b-8402-426f-f95b-8dea49aba3e7",
        "colab": {
          "base_uri": "https://localhost:8080/"
        }
      },
      "source": [
        "arr = np.arange(1, 11).reshape(2, 5)\n",
        "arr"
      ],
      "execution_count": null,
      "outputs": [
        {
          "output_type": "execute_result",
          "data": {
            "text/plain": [
              "array([[ 1,  2,  3,  4,  5],\n",
              "       [ 6,  7,  8,  9, 10]])"
            ]
          },
          "metadata": {
            "tags": []
          },
          "execution_count": 40
        }
      ]
    },
    {
      "cell_type": "code",
      "metadata": {
        "id": "8YLXRH3lzxFe",
        "outputId": "d1611aea-f7ce-4bb7-9cec-487890f54049",
        "colab": {
          "base_uri": "https://localhost:8080/"
        }
      },
      "source": [
        "arr[0][2]"
      ],
      "execution_count": null,
      "outputs": [
        {
          "output_type": "execute_result",
          "data": {
            "text/plain": [
              "3"
            ]
          },
          "metadata": {
            "tags": []
          },
          "execution_count": 42
        }
      ]
    },
    {
      "cell_type": "code",
      "metadata": {
        "id": "NQ6a4-ss0dHr",
        "outputId": "1af73383-8ded-4de5-b107-f275f7be831a",
        "colab": {
          "base_uri": "https://localhost:8080/"
        }
      },
      "source": [
        "arr[0, 2]"
      ],
      "execution_count": null,
      "outputs": [
        {
          "output_type": "execute_result",
          "data": {
            "text/plain": [
              "3"
            ]
          },
          "metadata": {
            "tags": []
          },
          "execution_count": 43
        }
      ]
    },
    {
      "cell_type": "code",
      "metadata": {
        "id": "up_mXGhL0f54",
        "outputId": "e0758c91-87aa-41ae-9c1e-f1cc5134f323",
        "colab": {
          "base_uri": "https://localhost:8080/"
        }
      },
      "source": [
        "arr[:,2] #"
      ],
      "execution_count": null,
      "outputs": [
        {
          "output_type": "execute_result",
          "data": {
            "text/plain": [
              "array([3, 8])"
            ]
          },
          "metadata": {
            "tags": []
          },
          "execution_count": 45
        }
      ]
    },
    {
      "cell_type": "code",
      "metadata": {
        "id": "QCvXp69P1LsP",
        "outputId": "acb85f02-1f4c-4844-b6ad-f654af21a1e0",
        "colab": {
          "base_uri": "https://localhost:8080/"
        }
      },
      "source": [
        "arr = np.arange(36).reshape(3, 4, 3)\n",
        "arr"
      ],
      "execution_count": null,
      "outputs": [
        {
          "output_type": "execute_result",
          "data": {
            "text/plain": [
              "array([[[ 0,  1,  2],\n",
              "        [ 3,  4,  5],\n",
              "        [ 6,  7,  8],\n",
              "        [ 9, 10, 11]],\n",
              "\n",
              "       [[12, 13, 14],\n",
              "        [15, 16, 17],\n",
              "        [18, 19, 20],\n",
              "        [21, 22, 23]],\n",
              "\n",
              "       [[24, 25, 26],\n",
              "        [27, 28, 29],\n",
              "        [30, 31, 32],\n",
              "        [33, 34, 35]]])"
            ]
          },
          "metadata": {
            "tags": []
          },
          "execution_count": 47
        }
      ]
    },
    {
      "cell_type": "code",
      "metadata": {
        "id": "pxt81kqq19_F",
        "outputId": "fd8a332b-9d3a-46fc-9d4b-a255b6f8f983",
        "colab": {
          "base_uri": "https://localhost:8080/"
        }
      },
      "source": [
        "arr[:, :2, :2]"
      ],
      "execution_count": null,
      "outputs": [
        {
          "output_type": "execute_result",
          "data": {
            "text/plain": [
              "array([[[ 0,  1],\n",
              "        [ 3,  4]],\n",
              "\n",
              "       [[12, 13],\n",
              "        [15, 16]],\n",
              "\n",
              "       [[24, 25],\n",
              "        [27, 28]]])"
            ]
          },
          "metadata": {
            "tags": []
          },
          "execution_count": 49
        }
      ]
    },
    {
      "cell_type": "code",
      "metadata": {
        "id": "bAoL9gLP5FQf",
        "outputId": "56ce8e22-971f-4659-c4de-364ac8f3d8bb",
        "colab": {
          "base_uri": "https://localhost:8080/"
        }
      },
      "source": [
        "arr[:2]"
      ],
      "execution_count": null,
      "outputs": [
        {
          "output_type": "execute_result",
          "data": {
            "text/plain": [
              "array([[[ 0,  1,  2],\n",
              "        [ 3,  4,  5],\n",
              "        [ 6,  7,  8],\n",
              "        [ 9, 10, 11]],\n",
              "\n",
              "       [[12, 13, 14],\n",
              "        [15, 16, 17],\n",
              "        [18, 19, 20],\n",
              "        [21, 22, 23]]])"
            ]
          },
          "metadata": {
            "tags": []
          },
          "execution_count": 50
        }
      ]
    },
    {
      "cell_type": "code",
      "metadata": {
        "id": "EfXoiWxU5MTv"
      },
      "source": [
        "# 배열의 차원과 형상\n",
        "\n",
        "# * 형상(shape)\n",
        "# * 차원수(ndim)"
      ],
      "execution_count": null,
      "outputs": []
    },
    {
      "cell_type": "code",
      "metadata": {
        "id": "TU7EptXi5Voz",
        "outputId": "be65ccbf-c6c7-401e-cfc2-944d6f80f7cc",
        "colab": {
          "base_uri": "https://localhost:8080/"
        }
      },
      "source": [
        "arr = np.arange(12).reshape(3, 4)\n",
        "arr"
      ],
      "execution_count": null,
      "outputs": [
        {
          "output_type": "execute_result",
          "data": {
            "text/plain": [
              "array([[ 0,  1,  2,  3],\n",
              "       [ 4,  5,  6,  7],\n",
              "       [ 8,  9, 10, 11]])"
            ]
          },
          "metadata": {
            "tags": []
          },
          "execution_count": 55
        }
      ]
    },
    {
      "cell_type": "code",
      "metadata": {
        "id": "plB9kK9e5oLp",
        "outputId": "adb43759-9aa0-4caa-a53e-6d91a5ad2d25",
        "colab": {
          "base_uri": "https://localhost:8080/"
        }
      },
      "source": [
        "arr.shape"
      ],
      "execution_count": null,
      "outputs": [
        {
          "output_type": "execute_result",
          "data": {
            "text/plain": [
              "(3, 4)"
            ]
          },
          "metadata": {
            "tags": []
          },
          "execution_count": 57
        }
      ]
    },
    {
      "cell_type": "code",
      "metadata": {
        "id": "E-7lW7ul5rO9",
        "outputId": "cadc9f35-6f7e-44be-f1ff-fdc231b4b8fc",
        "colab": {
          "base_uri": "https://localhost:8080/"
        }
      },
      "source": [
        "arr.ndim"
      ],
      "execution_count": null,
      "outputs": [
        {
          "output_type": "execute_result",
          "data": {
            "text/plain": [
              "2"
            ]
          },
          "metadata": {
            "tags": []
          },
          "execution_count": 59
        }
      ]
    },
    {
      "cell_type": "markdown",
      "metadata": {
        "id": "6SVxAOFj5vuf"
      },
      "source": [
        "# 차원수 늘리기\n",
        "# 이미지 분석(CNN) 레이어를 사용하기 위해서는 필수적으로 알아야 한다."
      ]
    },
    {
      "cell_type": "code",
      "metadata": {
        "id": "AsD8g28n6Ak9",
        "outputId": "48277db6-5a70-4994-c70f-1b67713d248b",
        "colab": {
          "base_uri": "https://localhost:8080/"
        }
      },
      "source": [
        "# Tensorflow 기준으로 CNN에 사용되어지는 배열의 형상은 항상 다음과 같다.\n",
        "arr2 = arr[np.newaxis,  :, :, np.newaxis] # arr[이미지개수, 가로길이, 세로길이, rgb채널 개수]\n",
        "arr2.shape\n",
        "# 이러한 형식을 사용하는게 아래의 방식들보다 더 좋음(좀더 명확함)"
      ],
      "execution_count": null,
      "outputs": [
        {
          "output_type": "execute_result",
          "data": {
            "text/plain": [
              "(1, 3, 4, 1)"
            ]
          },
          "metadata": {
            "tags": []
          },
          "execution_count": 74
        }
      ]
    },
    {
      "cell_type": "code",
      "metadata": {
        "id": "xko8CD6i6R04",
        "outputId": "2e405f52-d457-4edc-ef22-ea9971972995",
        "colab": {
          "base_uri": "https://localhost:8080/"
        }
      },
      "source": [
        "arr2.ndim"
      ],
      "execution_count": null,
      "outputs": [
        {
          "output_type": "execute_result",
          "data": {
            "text/plain": [
              "4"
            ]
          },
          "metadata": {
            "tags": []
          },
          "execution_count": 75
        }
      ]
    },
    {
      "cell_type": "code",
      "metadata": {
        "id": "_oWuVdDN6TpE",
        "outputId": "98abf911-5c88-438f-d759-a10b173619ea",
        "colab": {
          "base_uri": "https://localhost:8080/"
        }
      },
      "source": [
        "arr2"
      ],
      "execution_count": null,
      "outputs": [
        {
          "output_type": "execute_result",
          "data": {
            "text/plain": [
              "array([[[[ 0],\n",
              "         [ 1],\n",
              "         [ 2],\n",
              "         [ 3]],\n",
              "\n",
              "        [[ 4],\n",
              "         [ 5],\n",
              "         [ 6],\n",
              "         [ 7]],\n",
              "\n",
              "        [[ 8],\n",
              "         [ 9],\n",
              "         [10],\n",
              "         [11]]]])"
            ]
          },
          "metadata": {
            "tags": []
          },
          "execution_count": 76
        }
      ]
    },
    {
      "cell_type": "markdown",
      "metadata": {
        "id": "N59lf0SC6UU8"
      },
      "source": [
        "동영상은 4차원 데이터"
      ]
    },
    {
      "cell_type": "code",
      "metadata": {
        "id": "cIjyAoh08UCk",
        "outputId": "4a88d436-b750-4da3-e93b-5a9e87f192ad",
        "colab": {
          "base_uri": "https://localhost:8080/"
        }
      },
      "source": [
        "arr3 = np.squeeze(arr2)\n",
        "arr3.shape"
      ],
      "execution_count": null,
      "outputs": [
        {
          "output_type": "execute_result",
          "data": {
            "text/plain": [
              "(3, 4)"
            ]
          },
          "metadata": {
            "tags": []
          },
          "execution_count": 77
        }
      ]
    },
    {
      "cell_type": "code",
      "metadata": {
        "id": "Uv3Eexkv8hNE",
        "outputId": "73ee033b-6cdb-453e-9504-060b2963389f",
        "colab": {
          "base_uri": "https://localhost:8080/"
        }
      },
      "source": [
        "arr4 = arr[np.newaxis, ..., np.newaxis]\n",
        "arr4.shape"
      ],
      "execution_count": null,
      "outputs": [
        {
          "output_type": "execute_result",
          "data": {
            "text/plain": [
              "(1, 3, 4, 1)"
            ]
          },
          "metadata": {
            "tags": []
          },
          "execution_count": 78
        }
      ]
    },
    {
      "cell_type": "markdown",
      "metadata": {
        "id": "iFIQHQJa9ICo"
      },
      "source": [
        "# 배열의 형상 (shape)바꾸기\n",
        "np.newaxis를 활용해서 축을 추가한다. (차원수를 늘린다.)\n",
        "-평탄화\n",
        " ravel()\n",
        " flatten()\n",
        "\n",
        "-형상변환\n",
        "  reshape()\n"
      ]
    },
    {
      "cell_type": "code",
      "metadata": {
        "id": "5TUGZSoK9aph",
        "outputId": "f3d23a19-c85d-49a8-92a2-c2a0fe313125",
        "colab": {
          "base_uri": "https://localhost:8080/"
        }
      },
      "source": [
        "x = np.arange(15).reshape(3, 5)\n",
        "print(x)\n",
        "x.shape"
      ],
      "execution_count": null,
      "outputs": [
        {
          "output_type": "stream",
          "text": [
            "[[ 0  1  2  3  4]\n",
            " [ 5  6  7  8  9]\n",
            " [10 11 12 13 14]]\n"
          ],
          "name": "stdout"
        },
        {
          "output_type": "execute_result",
          "data": {
            "text/plain": [
              "(3, 5)"
            ]
          },
          "metadata": {
            "tags": []
          },
          "execution_count": 82
        }
      ]
    },
    {
      "cell_type": "code",
      "metadata": {
        "id": "ZxedxPWr9d8I",
        "outputId": "92792876-5d13-4a8e-a8e3-5af45f3d9fca",
        "colab": {
          "base_uri": "https://localhost:8080/"
        }
      },
      "source": [
        "# ravel : 평탄화 시킨 참조 배열을 낸다. (view 또는 Reference를 만들어 낸다.)\n",
        "# flatten : 평탄화 시킨 복사 배열을 만들어 낸다.(복사본을 만들어 낸다.)\n",
        "\n",
        "temp = np.ravel(x)\n",
        "print(temp)\n"
      ],
      "execution_count": null,
      "outputs": [
        {
          "output_type": "stream",
          "text": [
            "[ 0  1  2  3  4  5  6  7  8  9 10 11 12 13 14]\n"
          ],
          "name": "stdout"
        }
      ]
    },
    {
      "cell_type": "code",
      "metadata": {
        "id": "evsXb0wC-Aye",
        "outputId": "bcb1611b-2c0a-47cf-880a-b810f9968a63",
        "colab": {
          "base_uri": "https://localhost:8080/"
        }
      },
      "source": [
        "temp[0] = 100\n",
        "print(temp)\n",
        "print(x)"
      ],
      "execution_count": null,
      "outputs": [
        {
          "output_type": "stream",
          "text": [
            "[100   1   2   3   4   5   6   7   8   9  10  11  12  13  14]\n",
            "[[100   1   2   3   4]\n",
            " [  5   6   7   8   9]\n",
            " [ 10  11  12  13  14]]\n"
          ],
          "name": "stdout"
        }
      ]
    },
    {
      "cell_type": "code",
      "metadata": {
        "id": "glwD2xhp_1yf",
        "outputId": "00d22b4d-3626-4a06-e546-b56c532611fa",
        "colab": {
          "base_uri": "https://localhost:8080/"
        }
      },
      "source": [
        "y = np.arange(15).reshape(3, 5)\n",
        "y"
      ],
      "execution_count": null,
      "outputs": [
        {
          "output_type": "execute_result",
          "data": {
            "text/plain": [
              "array([[ 0,  1,  2,  3,  4],\n",
              "       [ 5,  6,  7,  8,  9],\n",
              "       [10, 11, 12, 13, 14]])"
            ]
          },
          "metadata": {
            "tags": []
          },
          "execution_count": 89
        }
      ]
    },
    {
      "cell_type": "code",
      "metadata": {
        "id": "5OjW-JWw_6GB",
        "outputId": "b134058e-923a-4001-aceb-eeb8966bd603",
        "colab": {
          "base_uri": "https://localhost:8080/"
        }
      },
      "source": [
        "temp2 = y.flatten() #  y를 1차원으로 쭉 펴낸 배열을 새롭게 만들어 낸다.\n",
        "print(temp2)\n",
        "print(y)"
      ],
      "execution_count": null,
      "outputs": [
        {
          "output_type": "stream",
          "text": [
            "[ 0  1  2  3  4  5  6  7  8  9 10 11 12 13 14]\n",
            "[[ 0  1  2  3  4]\n",
            " [ 5  6  7  8  9]\n",
            " [10 11 12 13 14]]\n"
          ],
          "name": "stdout"
        }
      ]
    },
    {
      "cell_type": "code",
      "metadata": {
        "id": "6h0YfDf6AL25",
        "outputId": "42c50b6c-a547-4be8-c64e-62ea06ee49d4",
        "colab": {
          "base_uri": "https://localhost:8080/"
        }
      },
      "source": [
        "temp2[0] = 100\n",
        "print(temp2)\n",
        "print(y)"
      ],
      "execution_count": null,
      "outputs": [
        {
          "output_type": "stream",
          "text": [
            "[100   1   2   3   4   5   6   7   8   9  10  11  12  13  14]\n",
            "[[ 0  1  2  3  4]\n",
            " [ 5  6  7  8  9]\n",
            " [10 11 12 13 14]]\n"
          ],
          "name": "stdout"
        }
      ]
    },
    {
      "cell_type": "code",
      "metadata": {
        "id": "fUgm4HlNBTb8",
        "outputId": "7bd92470-4bd3-4307-8192-3d021acc2084",
        "colab": {
          "base_uri": "https://localhost:8080/"
        }
      },
      "source": [
        "# reshape (배열의 형상을 바꾸기)\n",
        "x = np.arange(20)\n",
        "x"
      ],
      "execution_count": null,
      "outputs": [
        {
          "output_type": "execute_result",
          "data": {
            "text/plain": [
              "array([ 0,  1,  2,  3,  4,  5,  6,  7,  8,  9, 10, 11, 12, 13, 14, 15, 16,\n",
              "       17, 18, 19])"
            ]
          },
          "metadata": {
            "tags": []
          },
          "execution_count": 93
        }
      ]
    },
    {
      "cell_type": "code",
      "metadata": {
        "id": "ZsfELHQ3BbR9",
        "outputId": "4777f11f-b3c3-49c1-f9b3-eb3edb318da2",
        "colab": {
          "base_uri": "https://localhost:8080/"
        }
      },
      "source": [
        "x.reshape(2, 5, 2)"
      ],
      "execution_count": null,
      "outputs": [
        {
          "output_type": "execute_result",
          "data": {
            "text/plain": [
              "array([[[ 0,  1],\n",
              "        [ 2,  3],\n",
              "        [ 4,  5],\n",
              "        [ 6,  7],\n",
              "        [ 8,  9]],\n",
              "\n",
              "       [[10, 11],\n",
              "        [12, 13],\n",
              "        [14, 15],\n",
              "        [16, 17],\n",
              "        [18, 19]]])"
            ]
          },
          "metadata": {
            "tags": []
          },
          "execution_count": 95
        }
      ]
    },
    {
      "cell_type": "code",
      "metadata": {
        "id": "V5jmYMd4BwYg",
        "outputId": "18da0aad-7913-416f-e15e-cc34466c2820",
        "colab": {
          "base_uri": "https://localhost:8080/"
        }
      },
      "source": [
        "x.reshape(2, 2, -1) #-1은 조커. 2번 이상 사용 불가능"
      ],
      "execution_count": null,
      "outputs": [
        {
          "output_type": "execute_result",
          "data": {
            "text/plain": [
              "array([[[ 0,  1,  2,  3,  4],\n",
              "        [ 5,  6,  7,  8,  9]],\n",
              "\n",
              "       [[10, 11, 12, 13, 14],\n",
              "        [15, 16, 17, 18, 19]]])"
            ]
          },
          "metadata": {
            "tags": []
          },
          "execution_count": 97
        }
      ]
    },
    {
      "cell_type": "code",
      "metadata": {
        "id": "uQFOQOP0B7dY",
        "outputId": "70c65d6b-967e-44de-b638-aa54d8306f0d",
        "colab": {
          "base_uri": "https://localhost:8080/",
          "height": 170
        }
      },
      "source": [
        "x.reshape(3, -1)"
      ],
      "execution_count": null,
      "outputs": [
        {
          "output_type": "error",
          "ename": "ValueError",
          "evalue": "ignored",
          "traceback": [
            "\u001b[0;31m---------------------------------------------------------------------------\u001b[0m",
            "\u001b[0;31mValueError\u001b[0m                                Traceback (most recent call last)",
            "\u001b[0;32m<ipython-input-99-274b0a608ae6>\u001b[0m in \u001b[0;36m<module>\u001b[0;34m()\u001b[0m\n\u001b[0;32m----> 1\u001b[0;31m \u001b[0mx\u001b[0m\u001b[0;34m.\u001b[0m\u001b[0mreshape\u001b[0m\u001b[0;34m(\u001b[0m\u001b[0;36m3\u001b[0m\u001b[0;34m,\u001b[0m \u001b[0;34m-\u001b[0m\u001b[0;36m1\u001b[0m\u001b[0;34m)\u001b[0m\u001b[0;34m\u001b[0m\u001b[0;34m\u001b[0m\u001b[0m\n\u001b[0m",
            "\u001b[0;31mValueError\u001b[0m: cannot reshape array of size 20 into shape (3,newaxis)"
          ]
        }
      ]
    },
    {
      "cell_type": "code",
      "metadata": {
        "id": "niZ4Rlt7CP4S",
        "outputId": "bcc9aca0-1c3f-4afa-cc95-308078af1991",
        "colab": {
          "base_uri": "https://localhost:8080/"
        }
      },
      "source": [
        "x.reshape(-1, 5).shape"
      ],
      "execution_count": null,
      "outputs": [
        {
          "output_type": "execute_result",
          "data": {
            "text/plain": [
              "(3, 5)"
            ]
          },
          "metadata": {
            "tags": []
          },
          "execution_count": 112
        }
      ]
    },
    {
      "cell_type": "code",
      "metadata": {
        "id": "VMsf-hCjCSes",
        "outputId": "832570ef-d100-4524-cd53-c4e75c4157b1",
        "colab": {
          "base_uri": "https://localhost:8080/"
        }
      },
      "source": [
        "x.reshape(2, -1, 5).shape"
      ],
      "execution_count": null,
      "outputs": [
        {
          "output_type": "execute_result",
          "data": {
            "text/plain": [
              "(2, 2, 5)"
            ]
          },
          "metadata": {
            "tags": []
          },
          "execution_count": 102
        }
      ]
    },
    {
      "cell_type": "markdown",
      "metadata": {
        "id": "NhafalyOCdNa"
      },
      "source": [
        "# 브로드 캐스팅\n",
        "차원수가 다른 배열끼리의 연선"
      ]
    },
    {
      "cell_type": "code",
      "metadata": {
        "id": "DPHVdETfCfzx",
        "outputId": "5bbed315-f524-48b8-82de-28d1796c6ad1",
        "colab": {
          "base_uri": "https://localhost:8080/"
        }
      },
      "source": [
        "x = np.arange(15).reshape(3, 5)\n",
        "y = np.random.randn(15).reshape(3, 5)\n",
        "\n",
        "print(x)\n",
        "print(y)"
      ],
      "execution_count": null,
      "outputs": [
        {
          "output_type": "stream",
          "text": [
            "[[ 0  1  2  3  4]\n",
            " [ 5  6  7  8  9]\n",
            " [10 11 12 13 14]]\n",
            "[[ 1.32822509  0.75628182 -1.07725193 -0.80239151 -0.05806559]\n",
            " [-1.06491825  2.03653689 -1.08014213  0.38617111 -0.86406204]\n",
            " [ 1.10792593 -0.43636283  1.30072439 -0.21913573 -0.58166402]]\n"
          ],
          "name": "stdout"
        }
      ]
    },
    {
      "cell_type": "code",
      "metadata": {
        "id": "I9Qh539tCvmk",
        "outputId": "2f8ae607-24d2-4e43-e764-1e59b6970657",
        "colab": {
          "base_uri": "https://localhost:8080/"
        }
      },
      "source": [
        "x + y"
      ],
      "execution_count": null,
      "outputs": [
        {
          "output_type": "execute_result",
          "data": {
            "text/plain": [
              "array([[ 1.32822509,  1.75628182,  0.92274807,  2.19760849,  3.94193441],\n",
              "       [ 3.93508175,  8.03653689,  5.91985787,  8.38617111,  8.13593796],\n",
              "       [11.10792593, 10.56363717, 13.30072439, 12.78086427, 13.41833598]])"
            ]
          },
          "metadata": {
            "tags": []
          },
          "execution_count": 107
        }
      ]
    },
    {
      "cell_type": "code",
      "metadata": {
        "id": "yQSMysduDAn8",
        "outputId": "bfc7669b-dba1-4541-f553-c4dd94e6d724",
        "colab": {
          "base_uri": "https://localhost:8080/"
        }
      },
      "source": [
        "x * y"
      ],
      "execution_count": null,
      "outputs": [
        {
          "output_type": "execute_result",
          "data": {
            "text/plain": [
              "array([[ 0.        ,  0.75628182, -2.15450386, -2.40717454, -0.23226235],\n",
              "       [-5.32459126, 12.21922134, -7.56099489,  3.08936886, -7.77655832],\n",
              "       [11.07925933, -4.79999112, 15.60869265, -2.84876443, -8.1432963 ]])"
            ]
          },
          "metadata": {
            "tags": []
          },
          "execution_count": 109
        }
      ]
    },
    {
      "cell_type": "code",
      "metadata": {
        "id": "kK3OkTI7DBsV",
        "outputId": "1b190118-6fb0-4493-b2b2-68db1a3b6387",
        "colab": {
          "base_uri": "https://localhost:8080/"
        }
      },
      "source": [
        "x * 2 # x는 배열, 2는 스칼라값, 스칼라값이 브로드 캐스팅된다."
      ],
      "execution_count": null,
      "outputs": [
        {
          "output_type": "execute_result",
          "data": {
            "text/plain": [
              "array([[ 0,  2,  4,  6,  8],\n",
              "       [10, 12, 14, 16, 18],\n",
              "       [20, 22, 24, 26, 28]])"
            ]
          },
          "metadata": {
            "tags": []
          },
          "execution_count": 113
        }
      ]
    },
    {
      "cell_type": "code",
      "metadata": {
        "id": "_AOFyRl4Ge8j",
        "outputId": "65dc3d15-c460-47c9-8284-6d721c8ecaa3",
        "colab": {
          "base_uri": "https://localhost:8080/"
        }
      },
      "source": [
        "a = np.arange(12).reshape(4, 3) # (4, 3)\n",
        "b = np.arange(100, 103) # (3, )\n",
        "c = np.arange(1000, 1004) # (4, )\n",
        "d = b.reshape(1, 3) # (1, 3)\n",
        "\n",
        "print(a.shape)\n",
        "print(b.shape)\n",
        "print(c.shape)\n",
        "print(d.shape)"
      ],
      "execution_count": null,
      "outputs": [
        {
          "output_type": "stream",
          "text": [
            "(4, 3)\n",
            "(3,)\n",
            "(4,)\n",
            "(1, 3)\n"
          ],
          "name": "stdout"
        }
      ]
    },
    {
      "cell_type": "code",
      "metadata": {
        "id": "r9tF8QG1GxVW",
        "outputId": "779e1bb0-b0f6-4e91-85b5-7a27dd3a4ce5",
        "colab": {
          "base_uri": "https://localhost:8080/"
        }
      },
      "source": [
        "a + b"
      ],
      "execution_count": null,
      "outputs": [
        {
          "output_type": "execute_result",
          "data": {
            "text/plain": [
              "array([[100, 102, 104],\n",
              "       [103, 105, 107],\n",
              "       [106, 108, 110],\n",
              "       [109, 111, 113]])"
            ]
          },
          "metadata": {
            "tags": []
          },
          "execution_count": 120
        }
      ]
    },
    {
      "cell_type": "code",
      "metadata": {
        "id": "V0r2bDwLH2X3",
        "outputId": "e0da46db-b9cc-47cf-916a-af5625192c3b",
        "colab": {
          "base_uri": "https://localhost:8080/",
          "height": 170
        }
      },
      "source": [
        "a + c"
      ],
      "execution_count": null,
      "outputs": [
        {
          "output_type": "error",
          "ename": "ValueError",
          "evalue": "ignored",
          "traceback": [
            "\u001b[0;31m---------------------------------------------------------------------------\u001b[0m",
            "\u001b[0;31mValueError\u001b[0m                                Traceback (most recent call last)",
            "\u001b[0;32m<ipython-input-121-e81e582b6fa9>\u001b[0m in \u001b[0;36m<module>\u001b[0;34m()\u001b[0m\n\u001b[0;32m----> 1\u001b[0;31m \u001b[0ma\u001b[0m \u001b[0;34m+\u001b[0m \u001b[0mc\u001b[0m\u001b[0;34m\u001b[0m\u001b[0;34m\u001b[0m\u001b[0m\n\u001b[0m",
            "\u001b[0;31mValueError\u001b[0m: operands could not be broadcast together with shapes (4,3) (4,) "
          ]
        }
      ]
    },
    {
      "cell_type": "code",
      "metadata": {
        "id": "IsEePGkTH8VR",
        "outputId": "c141c960-253e-47ec-fc03-37aa055593ba",
        "colab": {
          "base_uri": "https://localhost:8080/"
        }
      },
      "source": [
        "a + d"
      ],
      "execution_count": null,
      "outputs": [
        {
          "output_type": "execute_result",
          "data": {
            "text/plain": [
              "array([[100, 102, 104],\n",
              "       [103, 105, 107],\n",
              "       [106, 108, 110],\n",
              "       [109, 111, 113]])"
            ]
          },
          "metadata": {
            "tags": []
          },
          "execution_count": 122
        }
      ]
    },
    {
      "cell_type": "markdown",
      "metadata": {
        "id": "BModOcg8IP4i"
      },
      "source": [
        "전치 행렬 만들기"
      ]
    },
    {
      "cell_type": "code",
      "metadata": {
        "id": "RKj9tUCNIicc",
        "outputId": "8c8ed7f6-8418-4b19-8a25-75c22ec75e7c",
        "colab": {
          "base_uri": "https://localhost:8080/"
        }
      },
      "source": [
        "e = np.arange(6).reshape(2, 3)\n",
        "e"
      ],
      "execution_count": null,
      "outputs": [
        {
          "output_type": "execute_result",
          "data": {
            "text/plain": [
              "array([[0, 1, 2],\n",
              "       [3, 4, 5]])"
            ]
          },
          "metadata": {
            "tags": []
          },
          "execution_count": 126
        }
      ]
    },
    {
      "cell_type": "code",
      "metadata": {
        "id": "WWuQwXKPIxPD",
        "outputId": "38ebca79-c70b-4706-c356-ea20cc5158f1",
        "colab": {
          "base_uri": "https://localhost:8080/"
        }
      },
      "source": [
        "e.T"
      ],
      "execution_count": null,
      "outputs": [
        {
          "output_type": "execute_result",
          "data": {
            "text/plain": [
              "array([[0, 3],\n",
              "       [1, 4],\n",
              "       [2, 5]])"
            ]
          },
          "metadata": {
            "tags": []
          },
          "execution_count": 127
        }
      ]
    },
    {
      "cell_type": "code",
      "metadata": {
        "id": "zjHlSB_aIyNE"
      },
      "source": [
        ""
      ],
      "execution_count": null,
      "outputs": []
    }
  ]
}