{
  "nbformat": 4,
  "nbformat_minor": 0,
  "metadata": {
    "colab": {
      "name": "06.역전파 구현하기",
      "provenance": [],
      "collapsed_sections": [],
      "toc_visible": true,
      "authorship_tag": "ABX9TyOD3/HQCzOWu8DMwCPJi+NK",
      "include_colab_link": true
    },
    "kernelspec": {
      "name": "python3",
      "display_name": "Python 3"
    }
  },
  "cells": [
    {
      "cell_type": "markdown",
      "metadata": {
        "id": "view-in-github",
        "colab_type": "text"
      },
      "source": [
        "<a href=\"https://colab.research.google.com/github/Honggu12/Machine-Learning/blob/main/06_%EC%97%AD%EC%A0%84%ED%8C%8C_%EA%B5%AC%ED%98%84%ED%95%98%EA%B8%B0.ipynb\" target=\"_parent\"><img src=\"https://colab.research.google.com/assets/colab-badge.svg\" alt=\"Open In Colab\"/></a>"
      ]
    },
    {
      "cell_type": "markdown",
      "metadata": {
        "id": "DYu1urjcuOm0"
      },
      "source": [
        "계층 (layer)에 대한 이해\n",
        " - 하나의 계층은 하나의 일만 전문적으로 할 수 있어야 한다. (국소적 계산)\n",
        " - Fully connected 계층은 WX+B 계산만\n",
        " - ReLU 계층은 ReLU 연산만\n",
        " - 덧셈 계층은 덧셈 연산만\n",
        " - 곱셈 계층은 곱셈 연산만\n",
        " - 모든 레이어는 미분값을 역전파 한다."
      ]
    },
    {
      "cell_type": "code",
      "metadata": {
        "id": "69VbkBF0vxLB"
      },
      "source": [
        "# 곱셈 계층 구현하기\n",
        "# forward : x * y\n",
        "# backward : dx = 미분값 * y, dy = 미분값 * x\n",
        "# 비고 : forward 할 때 들어온 각 값들은 저장하고 있어야 한다.\n",
        "\n",
        "class MulLayer:\n",
        "\n",
        "  # 초기화 : 객체에서 사용할 변수를 미리 준비\n",
        "  def __init__(self):\n",
        "    self.x = None\n",
        "    self.y = None\n",
        "\n",
        "  # x * y 해서 리턴\n",
        "  # 계산 되는 값들을 각각 저장하고 있어야 한다.\n",
        "  def forward(self, x, y):\n",
        "    self.x = x\n",
        "    self.y = y\n",
        "\n",
        "    out = x * y\n",
        "    return out\n",
        "\n",
        "  # dout : 뒷층에서 넘어온 미분값\n",
        "  # dx : dout * y\n",
        "  # dy = dout * x\n",
        "\n",
        "  def backward(self, dout):\n",
        "    dx = dout * self.y\n",
        "    dy = dout * self.x\n",
        "\n",
        "    return dx, dy"
      ],
      "execution_count": null,
      "outputs": []
    },
    {
      "cell_type": "code",
      "metadata": {
        "id": "wr4gIFBh0vEj",
        "outputId": "d35b93bd-8074-44e6-ecb6-9545e63f1cd4",
        "colab": {
          "base_uri": "https://localhost:8080/"
        }
      },
      "source": [
        "apple = 100 # 사과 1개당 가격\n",
        "apple_cnt = 2 # 사과 개수\n",
        "tax = 1.1 # 소비세\n",
        "\n",
        "# 계층은 2개\n",
        "# (apple * apple_cnt) * tax\n",
        "\n",
        "mul_apple_layer = MulLayer()\n",
        "mul_tax_layer = MulLayer()\n",
        "\n",
        "# 순전파 먼저 수행\n",
        "apple_price = mul_apple_layer.forward(apple, apple_cnt)\n",
        "price       = mul_tax_layer.forward(apple_price, tax)\n",
        "\n",
        "print(\"최종 사과 가격 : {:.0f}\".format(price))"
      ],
      "execution_count": null,
      "outputs": [
        {
          "output_type": "stream",
          "text": [
            "최종 사과 가격 : 220\n"
          ],
          "name": "stdout"
        }
      ]
    },
    {
      "cell_type": "code",
      "metadata": {
        "id": "As7SZ1iZ18--",
        "outputId": "a97eb5cf-d30c-4139-dc97-bf717a1cd311",
        "colab": {
          "base_uri": "https://localhost:8080/"
        }
      },
      "source": [
        "# d돈통  / d포스기\n",
        "dprice = 1\n",
        "dapple_price, dtax = mul_tax_layer.backward(dprice)\n",
        "dapple, dapple_cnt = mul_apple_layer.backward(dapple_price)\n",
        "\n",
        "print(\"apple_cnt개의 사과 가격에 대한 미분값 : {}\".format(dapple_price))\n",
        "print(\"사과 가격에 대한 미분값 : {}\".format(dapple))\n",
        "print(\"사과 개수에 대한 미분값 : {}\".format(dapple_cnt))\n",
        "print(\"소비세에 대한 미분값 : {}\".format(dtax))"
      ],
      "execution_count": null,
      "outputs": [
        {
          "output_type": "stream",
          "text": [
            "apple_cnt개의 사과 가격에 대한 미분값 : 1.1\n",
            "사과 가격에 대한 미분값 : 2.2\n",
            "사과 개수에 대한 미분값 : 110.00000000000001\n",
            "소비세에 대한 미분값 : 200\n"
          ],
          "name": "stdout"
        }
      ]
    },
    {
      "cell_type": "code",
      "metadata": {
        "id": "qm42Qt1b3UnW"
      },
      "source": [
        "# 덧셈 계층 구현하기\n",
        "# forward : x + y\n",
        "# backward : 뒷층에서 보내진 미분값에 * 1을 곱한다\n",
        "# 비고 : forward 시에 입력된 값을 가지고 있지 않아도 된다. 역전파 시에는 미분값만 필요하니까"
      ],
      "execution_count": null,
      "outputs": []
    },
    {
      "cell_type": "code",
      "metadata": {
        "id": "kNn-6-Pg78as"
      },
      "source": [
        "class AddLayer:\n",
        "\n",
        "  def __init__(self):\n",
        "    p\n",
        "  def forward(self, x, y):\n",
        "    out = x + y\n",
        "    return out\n",
        "\n",
        "  def backward(self, dout):\n",
        "    \n",
        "    dx = dout * 1\n",
        "    dy = dout * 1\n",
        "\n",
        "    return dx, dy\n",
        "\n",
        "\n",
        "    "
      ],
      "execution_count": null,
      "outputs": []
    },
    {
      "cell_type": "markdown",
      "metadata": {
        "id": "Pnrt9mm78Sva"
      },
      "source": [
        "신경망 레이어 만들기\n",
        " - ReLU\n",
        " - Sigmoid\n",
        " - Affine 레이어 (기하학 레이어 - Fully Connected, Dense)\n",
        " - SoftMax + Loss 레이어\n",
        "\n"
      ]
    },
    {
      "cell_type": "code",
      "metadata": {
        "id": "VhVmtLrrI5ks"
      },
      "source": [
        "class ReLU:\n",
        "  \n",
        "  # 가지고 있어야 할 정보 - 어떤 위치의 x의 원소가 0보다 작았는지\n",
        "  def __init__(self):\n",
        "    self.mask = None\n",
        "    \n",
        "  def forward(self, x):\n",
        "    self.mask = (x <= 0) # 배열 x에서 어떤 값이 음수인지 마스킹 해 놓는다. - 음수인 부분만 True\n",
        "    out = x.copy() # 원본 배열 복사\n",
        "    out[self.mask] = 0 # 마스크를 활용해서 음수인 부분만 True\n",
        "\n",
        "    return out\n",
        "    \n",
        "  # 순전파 때 음수 였던 부분을 0으로 만들었음\n",
        "  # 음수였었던 인덱스를 기억하고 있다가, 미분값 전달시에 해당 인덱스를 0으로 만든다.\n",
        "  def backward(self, dout):\n",
        "    dout[self.mask] = 0\n",
        "    dx = dout\n",
        "    return dx\n",
        "\n",
        "    "
      ],
      "execution_count": null,
      "outputs": []
    },
    {
      "cell_type": "code",
      "metadata": {
        "id": "nXDRBXiVM8hC",
        "outputId": "f54c0921-6274-40aa-ae5e-89b71b1dffda",
        "colab": {
          "base_uri": "https://localhost:8080/"
        }
      },
      "source": [
        "import numpy as np\n",
        "\n",
        "x = np.array([[1.0, -0.5],\n",
        "              [-2.0, 3.0]])\n",
        "print(x)"
      ],
      "execution_count": null,
      "outputs": [
        {
          "output_type": "stream",
          "text": [
            "[[ 1.  -0.5]\n",
            " [-2.   3. ]]\n"
          ],
          "name": "stdout"
        }
      ]
    },
    {
      "cell_type": "code",
      "metadata": {
        "id": "z2ccOSTpNNNo",
        "outputId": "1d966a1e-4e17-4c58-e2f6-73383644925c",
        "colab": {
          "base_uri": "https://localhost:8080/"
        }
      },
      "source": [
        "relu = ReLU()\n",
        "relu.forward(x)"
      ],
      "execution_count": null,
      "outputs": [
        {
          "output_type": "execute_result",
          "data": {
            "text/plain": [
              "array([[1., 0.],\n",
              "       [0., 3.]])"
            ]
          },
          "metadata": {
            "tags": []
          },
          "execution_count": 15
        }
      ]
    },
    {
      "cell_type": "code",
      "metadata": {
        "id": "b_1vWIC7NWdI",
        "outputId": "fc5240b7-dbc6-4203-9834-e9af1f1abb97",
        "colab": {
          "base_uri": "https://localhost:8080/"
        }
      },
      "source": [
        "# 마스크 확인\n",
        "relu.mask"
      ],
      "execution_count": null,
      "outputs": [
        {
          "output_type": "execute_result",
          "data": {
            "text/plain": [
              "array([[False,  True],\n",
              "       [ True, False]])"
            ]
          },
          "metadata": {
            "tags": []
          },
          "execution_count": 16
        }
      ]
    },
    {
      "cell_type": "code",
      "metadata": {
        "id": "AY7TwURINYVo",
        "outputId": "7cc920d5-d83d-4c3b-e9d2-9e10730e585c",
        "colab": {
          "base_uri": "https://localhost:8080/"
        }
      },
      "source": [
        "dx = np.array([[-0.1, 4.0],\n",
        "               [1.3, -1.1]])\n",
        "\n",
        "relu.backward(dx)"
      ],
      "execution_count": null,
      "outputs": [
        {
          "output_type": "execute_result",
          "data": {
            "text/plain": [
              "array([[-0.1,  0. ],\n",
              "       [ 0. , -1.1]])"
            ]
          },
          "metadata": {
            "tags": []
          },
          "execution_count": 17
        }
      ]
    },
    {
      "cell_type": "code",
      "metadata": {
        "id": "KKu-oJt-NwXx"
      },
      "source": [
        "class Sigmoid:\n",
        "  \n",
        "  def __init__(self):\n",
        "    self.out = None # sigmoid의 순전파에서 계산된 값\n",
        "  def forward(self, x):\n",
        "    out = 1 / (1 + np.exp(-x))\n",
        "    self.out = out\n",
        "\n",
        "    return out\n",
        "\n",
        "  # 시그모이드 함수를 미분하면 dsigmoid = sigmoid*(1-sigmoid)\n",
        "  def backward(self, dout):\n",
        "    dx = dout * self.out * (1.0 - self.out)\n",
        "    return dx"
      ],
      "execution_count": null,
      "outputs": []
    },
    {
      "cell_type": "code",
      "metadata": {
        "id": "8GRg5Or6QNkE",
        "outputId": "b3297581-2b0d-4e43-bab0-76000bcffac5",
        "colab": {
          "base_uri": "https://localhost:8080/"
        }
      },
      "source": [
        "x = np.array([0.991, 0.34, 0.56])\n",
        "sigmoid = Sigmoid()\n",
        "print(sigmoid.forward(x))\n",
        "\n",
        "dout = 0.8\n",
        "print(sigmoid.backward(dout))"
      ],
      "execution_count": null,
      "outputs": [
        {
          "output_type": "stream",
          "text": [
            "[0.7292854  0.58419052 0.63645254]\n",
            "[0.15794257 0.19432956 0.18510456]\n"
          ],
          "name": "stdout"
        }
      ]
    },
    {
      "cell_type": "code",
      "metadata": {
        "id": "s67xEQGnQpfZ",
        "outputId": "949b9182-b24e-4447-dcea-1028dbf14423",
        "colab": {
          "base_uri": "https://localhost:8080/"
        }
      },
      "source": [
        "# Affine 계층의 순전파\n",
        "\n",
        "X = np.random.rand(2)\n",
        "W = np.random.rand(2, 3)\n",
        "B = np.random.rand(3)\n",
        "\n",
        "Y = np.dot(X, W) + B\n",
        "print(Y)"
      ],
      "execution_count": null,
      "outputs": [
        {
          "output_type": "stream",
          "text": [
            "[0.43812425 0.99734681 1.43164589]\n"
          ],
          "name": "stdout"
        }
      ]
    },
    {
      "cell_type": "code",
      "metadata": {
        "id": "3aRS0SY9lcyb",
        "outputId": "fbac3186-89b2-43ba-f820-7cd0b13659ef",
        "colab": {
          "base_uri": "https://localhost:8080/"
        }
      },
      "source": [
        "X.shape, W.shape, B.shape"
      ],
      "execution_count": null,
      "outputs": [
        {
          "output_type": "execute_result",
          "data": {
            "text/plain": [
              "((2,), (2, 3), (3,))"
            ]
          },
          "metadata": {
            "tags": []
          },
          "execution_count": 26
        }
      ]
    },
    {
      "cell_type": "code",
      "metadata": {
        "id": "sV_OnOCEleye",
        "outputId": "7efdd31d-3d56-48ba-c936-f46582677895",
        "colab": {
          "base_uri": "https://localhost:8080/"
        }
      },
      "source": [
        "%cd common\n",
        "!unzip common.zip"
      ],
      "execution_count": null,
      "outputs": [
        {
          "output_type": "stream",
          "text": [
            "[Errno 2] No such file or directory: 'common'\n",
            "/content/common\n",
            "Archive:  common.zip\n",
            "replace functions.py? [y]es, [n]o, [A]ll, [N]one, [r]ename: y\n",
            "  inflating: functions.py            \n",
            "replace gradient.py? [y]es, [n]o, [A]ll, [N]one, [r]ename: y\n",
            "  inflating: gradient.py             \n",
            "replace layers.py? [y]es, [n]o, [A]ll, [N]one, [r]ename: y\n",
            "  inflating: layers.py               \n",
            "replace multi_layer_net.py? [y]es, [n]o, [A]ll, [N]one, [r]ename: y\n",
            "  inflating: multi_layer_net.py      \n",
            "replace multi_layer_net_extend.py? [y]es, [n]o, [A]ll, [N]one, [r]ename: y\n",
            "  inflating: multi_layer_net_extend.py  \n",
            "replace optimizer.py? [y]es, [n]o, [A]ll, [N]one, [r]ename: y\n",
            "  inflating: optimizer.py            \n",
            "replace trainer.py? [y]es, [n]o, [A]ll, [N]one, [r]ename: y\n",
            "  inflating: trainer.py              \n",
            "replace util.py? [y]es, [n]o, [A]ll, [N]one, [r]ename: y\n",
            "  inflating: util.py                 \n",
            "replace __init__.py? [y]es, [n]o, [A]ll, [N]one, [r]ename: y\n",
            " extracting: __init__.py             \n"
          ],
          "name": "stdout"
        }
      ]
    },
    {
      "cell_type": "code",
      "metadata": {
        "id": "MBWPFO0N6s4x"
      },
      "source": [
        "# coding: utf-8\n",
        "import sys, os\n",
        "sys.path.append(os.pardir)  # 부모 디렉터리의 파일을 가져올 수 있도록 설정\n",
        "import numpy as np\n",
        "from common.layers import *\n",
        "from common.gradient import numerical_gradient\n",
        "from collections import OrderedDict\n",
        "\n",
        "\n",
        "class TwoLayerNet:\n",
        "\n",
        "    def __init__(self, input_size, hidden_size, output_size, weight_init_std = 0.01):\n",
        "        # 가중치 초기화\n",
        "        self.params = {}\n",
        "        self.params['W1'] = weight_init_std * np.random.randn(input_size, hidden_size)\n",
        "        self.params['b1'] = np.zeros(hidden_size)\n",
        "        self.params['W2'] = weight_init_std * np.random.randn(hidden_size, output_size) \n",
        "        self.params['b2'] = np.zeros(output_size)\n",
        "\n",
        "        # 계층 생성 (매우 중요!!!!!!!!!!!!!!)\n",
        "        self.layers = OrderedDict()  # 추가되는 데이터의 순서가 유지가 된다.\n",
        "        self.layers['Affine1'] = Affine(self.params['W1'], self.params['b1'])\n",
        "        self.layers['Relu1'] = Relu()\n",
        "        self.layers['Affine2'] = Affine(self.params['W2'], self.params['b2'])\n",
        "\n",
        "        self.lastLayer = SoftmaxWithLoss()\n",
        "        \n",
        "    def predict(self, x): \n",
        "        for layer in self.layers.values():\n",
        "            x = layer.forward(x)\n",
        "        \n",
        "        return x\n",
        "        \n",
        "    # x : 입력 데이터, t : 정답 레이블\n",
        "    def loss(self, x, t):\n",
        "        y = self.predict(x)\n",
        "        return self.lastLayer.forward(y, t)\n",
        "    \n",
        "    def accuracy(self, x, t):\n",
        "        y = self.predict(x)\n",
        "        y = np.argmax(y, axis=1)\n",
        "        if t.ndim != 1 : t = np.argmax(t, axis=1)\n",
        "        \n",
        "        accuracy = np.sum(y == t) / float(x.shape[0])\n",
        "        return accuracy\n",
        "        \n",
        "    # x : 입력 데이터, t : 정답 레이블\n",
        "    def numerical_gradient(self, x, t):\n",
        "        loss_W = lambda W: self.loss(x, t)\n",
        "        \n",
        "        grads = {}\n",
        "        grads['W1'] = numerical_gradient(loss_W, self.params['W1'])\n",
        "        grads['b1'] = numerical_gradient(loss_W, self.params['b1'])\n",
        "        grads['W2'] = numerical_gradient(loss_W, self.params['W2'])\n",
        "        grads['b2'] = numerical_gradient(loss_W, self.params['b2'])\n",
        "        \n",
        "        return grads\n",
        "        \n",
        "    def gradient(self, x, t):\n",
        "        # 순전파\n",
        "        self.loss(x, t)\n",
        "\n",
        "        # 역전파\n",
        "        dout = 1 # 마지막 계층의 미분값 설정\n",
        "        dout = self.lastLayer.backward(dout) # 마지막 계층에서의 미분값 전달 받기 (SoftMaxWithLoss에서 받음)\n",
        "        \n",
        "        layers = list(self.layers.values()) # 저장된 레이어를 불러와서 ( 여기서는 순차적인 레이어가 저장 되어 있음 )\n",
        "        layers.reverse() # 뒤집음(뒤에서 부터 전달해야 하기 때문에 )\n",
        "        \n",
        "        # 뒤에서 부터 역전파\n",
        "        for layer in layers:\n",
        "            dout = layer.backward(dout)\n",
        "\n",
        "        # 결과 저장\n",
        "        grads = {}\n",
        "        grads['W1'], grads['b1'] = self.layers['Affine1'].dW, self.layers['Affine1'].db\n",
        "        grads['W2'], grads['b2'] = self.layers['Affine2'].dW, self.layers['Affine2'].db\n",
        "\n",
        "        return grads"
      ],
      "execution_count": null,
      "outputs": []
    },
    {
      "cell_type": "code",
      "metadata": {
        "id": "rScAeoqI6t39"
      },
      "source": [
        "y"
      ],
      "execution_count": null,
      "outputs": []
    }
  ]
}